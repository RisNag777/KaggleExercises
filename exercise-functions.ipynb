{
 "cells": [
  {
   "cell_type": "markdown",
   "id": "8c7ce867",
   "metadata": {
    "papermill": {
     "duration": 0.008403,
     "end_time": "2024-04-18T07:42:49.464202",
     "exception": false,
     "start_time": "2024-04-18T07:42:49.455799",
     "status": "completed"
    },
    "tags": []
   },
   "source": [
    "**This notebook is an exercise in the [Intro to Programming](https://www.kaggle.com/learn/intro-to-programming) course.  You can reference the tutorial at [this link](https://www.kaggle.com/alexisbcook/functions).**\n",
    "\n",
    "---\n"
   ]
  },
  {
   "cell_type": "markdown",
   "id": "3d5293d7",
   "metadata": {
    "papermill": {
     "duration": 0.007825,
     "end_time": "2024-04-18T07:42:49.479913",
     "exception": false,
     "start_time": "2024-04-18T07:42:49.472088",
     "status": "completed"
    },
    "tags": []
   },
   "source": [
    "In the tutorial, you learned about functions. In this exercise, you'll write some of your own!\n",
    "\n",
    "# Set up the notebook\n",
    "\n",
    "Run the next code cell without changes to set up the notebook."
   ]
  },
  {
   "cell_type": "code",
   "execution_count": 1,
   "id": "1410491c",
   "metadata": {
    "execution": {
     "iopub.execute_input": "2024-04-18T07:42:49.498995Z",
     "iopub.status.busy": "2024-04-18T07:42:49.498183Z",
     "iopub.status.idle": "2024-04-18T07:42:50.466514Z",
     "shell.execute_reply": "2024-04-18T07:42:50.464964Z"
    },
    "papermill": {
     "duration": 0.982281,
     "end_time": "2024-04-18T07:42:50.470294",
     "exception": false,
     "start_time": "2024-04-18T07:42:49.488013",
     "status": "completed"
    },
    "tags": []
   },
   "outputs": [
    {
     "name": "stdout",
     "output_type": "stream",
     "text": [
      "Setup complete.\n"
     ]
    }
   ],
   "source": [
    "# Set up the exercise\n",
    "import math\n",
    "from learntools.core import binder\n",
    "binder.bind(globals())\n",
    "from learntools.intro_to_programming.ex2 import *\n",
    "print('Setup complete.')"
   ]
  },
  {
   "cell_type": "markdown",
   "id": "17a79470",
   "metadata": {
    "papermill": {
     "duration": 0.008328,
     "end_time": "2024-04-18T07:42:50.489298",
     "exception": false,
     "start_time": "2024-04-18T07:42:50.480970",
     "status": "completed"
    },
    "tags": []
   },
   "source": [
    "# Question 1\n",
    "\n",
    "In the [House Prices - Advanced Regression Techniques competition](https://www.kaggle.com/c/house-prices-advanced-regression-techniques/overview), you need to use information like the number of bedrooms and bathrooms to predict the price of a house.  Inspired by this competition, you'll write your own function to do this.\n",
    "\n",
    "In the next code cell, create a function `get_expected_cost()` that has two arguments:\n",
    "- `beds` - number of bedrooms \n",
    "- `baths` - number of bathrooms\n",
    "\n",
    "It should return the expected cost of a house with that number of bedrooms and bathrooms.  Assume that:\n",
    "- the expected cost for a house with 0 bedrooms and 0 bathrooms is `80000`.  \n",
    "- each bedroom adds `30000` to the expected cost\n",
    "- each bathroom adds `10000` to the expected cost.\n",
    "\n",
    "For instance, \n",
    "- a house with 1 bedroom and 1 bathroom has an expected cost of `120000`, and \n",
    "- a house with 2 bedrooms and 1 bathroom has an expected cost of `150000`."
   ]
  },
  {
   "cell_type": "code",
   "execution_count": 2,
   "id": "ca45cc00",
   "metadata": {
    "execution": {
     "iopub.execute_input": "2024-04-18T07:42:50.507137Z",
     "iopub.status.busy": "2024-04-18T07:42:50.506643Z",
     "iopub.status.idle": "2024-04-18T07:42:50.517553Z",
     "shell.execute_reply": "2024-04-18T07:42:50.516449Z"
    },
    "papermill": {
     "duration": 0.022848,
     "end_time": "2024-04-18T07:42:50.520034",
     "exception": false,
     "start_time": "2024-04-18T07:42:50.497186",
     "status": "completed"
    },
    "tags": []
   },
   "outputs": [
    {
     "data": {
      "application/javascript": [
       "parent.postMessage({\"jupyterEvent\": \"custom.exercise_interaction\", \"data\": {\"outcomeType\": 1, \"valueTowardsCompletion\": 0.2, \"interactionType\": 1, \"questionType\": 2, \"questionId\": \"1_GetExpectedCost\", \"learnToolsVersion\": \"0.3.4\", \"failureMessage\": \"\", \"exceptionClass\": \"\", \"trace\": \"\"}}, \"*\")"
      ],
      "text/plain": [
       "<IPython.core.display.Javascript object>"
      ]
     },
     "metadata": {},
     "output_type": "display_data"
    },
    {
     "data": {
      "text/markdown": [
       "<span style=\"color:#33cc33\">Correct</span>"
      ],
      "text/plain": [
       "Correct"
      ]
     },
     "metadata": {},
     "output_type": "display_data"
    }
   ],
   "source": [
    "# TODO: Complete the function\n",
    "def get_expected_cost(beds, baths):\n",
    "    value = 80000 + (beds * 30000) + (baths * 10000)\n",
    "    return value\n",
    "\n",
    "# Check your answer \n",
    "q1.check()"
   ]
  },
  {
   "cell_type": "code",
   "execution_count": 3,
   "id": "38936259",
   "metadata": {
    "execution": {
     "iopub.execute_input": "2024-04-18T07:42:50.540365Z",
     "iopub.status.busy": "2024-04-18T07:42:50.539346Z",
     "iopub.status.idle": "2024-04-18T07:42:50.544158Z",
     "shell.execute_reply": "2024-04-18T07:42:50.543354Z"
    },
    "papermill": {
     "duration": 0.017038,
     "end_time": "2024-04-18T07:42:50.546351",
     "exception": false,
     "start_time": "2024-04-18T07:42:50.529313",
     "status": "completed"
    },
    "tags": []
   },
   "outputs": [],
   "source": [
    "# Uncomment to see a hint\n",
    "#q1.hint()\n",
    "\n",
    "# Uncomment to view the solution\n",
    "#q1.solution()"
   ]
  },
  {
   "cell_type": "markdown",
   "id": "d2a9fc9b",
   "metadata": {
    "papermill": {
     "duration": 0.007815,
     "end_time": "2024-04-18T07:42:50.562309",
     "exception": false,
     "start_time": "2024-04-18T07:42:50.554494",
     "status": "completed"
    },
    "tags": []
   },
   "source": [
    "# Question 2\n",
    "\n",
    "You are thinking about buying a home and want to get an idea of how much you will spend, based on the number of bedrooms and bathrooms.  You are trying to decide between four different options:\n",
    "- Option 1: house with two bedrooms and three bathrooms\n",
    "- Option 2: house with three bedrooms and two bathrooms\n",
    "- Option 3: house with three bedrooms and three bathrooms\n",
    "- Option 4: house with three bedrooms and four bathrooms\n",
    "\n",
    "Use the `get_expected_cost()` function you defined in question 1 to set `option_1`, `option_2`, `option_3`, and `option_4` to the expected cost of each option."
   ]
  },
  {
   "cell_type": "code",
   "execution_count": 4,
   "id": "cdc2f41c",
   "metadata": {
    "execution": {
     "iopub.execute_input": "2024-04-18T07:42:50.581511Z",
     "iopub.status.busy": "2024-04-18T07:42:50.580653Z",
     "iopub.status.idle": "2024-04-18T07:42:50.592260Z",
     "shell.execute_reply": "2024-04-18T07:42:50.590862Z"
    },
    "papermill": {
     "duration": 0.024383,
     "end_time": "2024-04-18T07:42:50.594890",
     "exception": false,
     "start_time": "2024-04-18T07:42:50.570507",
     "status": "completed"
    },
    "tags": []
   },
   "outputs": [
    {
     "name": "stdout",
     "output_type": "stream",
     "text": [
      "170000\n",
      "190000\n",
      "200000\n",
      "210000\n"
     ]
    },
    {
     "data": {
      "application/javascript": [
       "parent.postMessage({\"jupyterEvent\": \"custom.exercise_interaction\", \"data\": {\"outcomeType\": 1, \"valueTowardsCompletion\": 0.2, \"interactionType\": 1, \"questionType\": 1, \"questionId\": \"2_RunGetExpectedCost\", \"learnToolsVersion\": \"0.3.4\", \"failureMessage\": \"\", \"exceptionClass\": \"\", \"trace\": \"\"}}, \"*\")"
      ],
      "text/plain": [
       "<IPython.core.display.Javascript object>"
      ]
     },
     "metadata": {},
     "output_type": "display_data"
    },
    {
     "data": {
      "text/markdown": [
       "<span style=\"color:#33cc33\">Correct</span>"
      ],
      "text/plain": [
       "Correct"
      ]
     },
     "metadata": {},
     "output_type": "display_data"
    }
   ],
   "source": [
    "# TODO: Use the get_expected_cost function to fill in each value\n",
    "option_one = get_expected_cost(2, 3)\n",
    "option_two = get_expected_cost(3, 2)\n",
    "option_three = get_expected_cost(3, 3)\n",
    "option_four = get_expected_cost(3, 4)\n",
    "\n",
    "print(option_one)\n",
    "print(option_two)\n",
    "print(option_three)\n",
    "print(option_four)\n",
    "\n",
    "# Check your answer\n",
    "q2.check()"
   ]
  },
  {
   "cell_type": "code",
   "execution_count": 5,
   "id": "7c49677e",
   "metadata": {
    "execution": {
     "iopub.execute_input": "2024-04-18T07:42:50.614440Z",
     "iopub.status.busy": "2024-04-18T07:42:50.613438Z",
     "iopub.status.idle": "2024-04-18T07:42:50.618701Z",
     "shell.execute_reply": "2024-04-18T07:42:50.617570Z"
    },
    "papermill": {
     "duration": 0.017773,
     "end_time": "2024-04-18T07:42:50.621341",
     "exception": false,
     "start_time": "2024-04-18T07:42:50.603568",
     "status": "completed"
    },
    "tags": []
   },
   "outputs": [],
   "source": [
    "# Uncomment to see a hint\n",
    "#q2.hint()\n",
    "\n",
    "# Uncomment to view the solution\n",
    "#q2.solution()"
   ]
  },
  {
   "cell_type": "markdown",
   "id": "75aaaa70",
   "metadata": {
    "papermill": {
     "duration": 0.009546,
     "end_time": "2024-04-18T07:42:50.639708",
     "exception": false,
     "start_time": "2024-04-18T07:42:50.630162",
     "status": "completed"
    },
    "tags": []
   },
   "source": [
    "# Question 3\n",
    "\n",
    "You're a home decorator, and you'd like to use Python to streamline some of your work.  Specifically, you're creating a tool that you intend to use to calculate the cost of painting a room.\n",
    "\n",
    "As a first step, define a function `get_cost()` that takes as input:\n",
    "- `sqft_walls` = total square feet of walls to be painted\n",
    "- `sqft_ceiling` = square feet of ceiling to be painted\n",
    "- `sqft_per_gallon` = number of square feet that you can cover with one gallon of paint\n",
    "- `cost_per_gallon` = cost (in dollars) of one gallon of paint\n",
    "\n",
    "It should return the cost (in dollars) of putting one coat of paint on all walls and the ceiling.  Assume you can buy the exact amount of paint that you need, so you can buy partial gallons (e.g., if you need 7.523 gallons, you can buy that exact amount, instead of needing to buy 8 gallons and waste some paint).  Do not round your answer."
   ]
  },
  {
   "cell_type": "code",
   "execution_count": 6,
   "id": "818d7aee",
   "metadata": {
    "execution": {
     "iopub.execute_input": "2024-04-18T07:42:50.658583Z",
     "iopub.status.busy": "2024-04-18T07:42:50.658219Z",
     "iopub.status.idle": "2024-04-18T07:42:50.669317Z",
     "shell.execute_reply": "2024-04-18T07:42:50.668088Z"
    },
    "papermill": {
     "duration": 0.023269,
     "end_time": "2024-04-18T07:42:50.671583",
     "exception": false,
     "start_time": "2024-04-18T07:42:50.648314",
     "status": "completed"
    },
    "tags": []
   },
   "outputs": [
    {
     "data": {
      "application/javascript": [
       "parent.postMessage({\"jupyterEvent\": \"custom.exercise_interaction\", \"data\": {\"outcomeType\": 1, \"valueTowardsCompletion\": 0.2, \"interactionType\": 1, \"questionType\": 2, \"questionId\": \"3_GetCostPaint\", \"learnToolsVersion\": \"0.3.4\", \"failureMessage\": \"\", \"exceptionClass\": \"\", \"trace\": \"\"}}, \"*\")"
      ],
      "text/plain": [
       "<IPython.core.display.Javascript object>"
      ]
     },
     "metadata": {},
     "output_type": "display_data"
    },
    {
     "data": {
      "text/markdown": [
       "<span style=\"color:#33cc33\">Correct</span>"
      ],
      "text/plain": [
       "Correct"
      ]
     },
     "metadata": {},
     "output_type": "display_data"
    }
   ],
   "source": [
    "# TODO: Finish defining the function\n",
    "def get_cost(sqft_walls, sqft_ceiling, sqft_per_gallon, cost_per_gallon):\n",
    "    surface = sqft_walls + sqft_ceiling\n",
    "    gallons = surface/sqft_per_gallon\n",
    "    cost = cost_per_gallon * gallons\n",
    "    return cost\n",
    "\n",
    "# Check your answer\n",
    "q3.check()"
   ]
  },
  {
   "cell_type": "code",
   "execution_count": 7,
   "id": "3db261bf",
   "metadata": {
    "execution": {
     "iopub.execute_input": "2024-04-18T07:42:50.691997Z",
     "iopub.status.busy": "2024-04-18T07:42:50.691442Z",
     "iopub.status.idle": "2024-04-18T07:42:50.696302Z",
     "shell.execute_reply": "2024-04-18T07:42:50.695016Z"
    },
    "papermill": {
     "duration": 0.018358,
     "end_time": "2024-04-18T07:42:50.699089",
     "exception": false,
     "start_time": "2024-04-18T07:42:50.680731",
     "status": "completed"
    },
    "tags": []
   },
   "outputs": [],
   "source": [
    "# Uncomment to see a hint\n",
    "#q3.hint()\n",
    "\n",
    "# Uncomment to view the solution\n",
    "#q3.solution()"
   ]
  },
  {
   "cell_type": "markdown",
   "id": "eadf8134",
   "metadata": {
    "papermill": {
     "duration": 0.008844,
     "end_time": "2024-04-18T07:42:50.717100",
     "exception": false,
     "start_time": "2024-04-18T07:42:50.708256",
     "status": "completed"
    },
    "tags": []
   },
   "source": [
    "# Question 4\n",
    "\n",
    "Use the `get_cost()` function you defined in Question 3 to calculate the cost of applying one coat of paint to a room with:\n",
    "- 432 square feet of walls, and\n",
    "- 144 square feet of ceiling.\n",
    "\n",
    "Assume that one gallon of paint covers 400 square feet and costs $15.  As in Question 3, assume you can buy partial gallons of paint.  Do not round your answer."
   ]
  },
  {
   "cell_type": "code",
   "execution_count": 8,
   "id": "0d42479a",
   "metadata": {
    "execution": {
     "iopub.execute_input": "2024-04-18T07:42:50.737138Z",
     "iopub.status.busy": "2024-04-18T07:42:50.736734Z",
     "iopub.status.idle": "2024-04-18T07:42:50.746294Z",
     "shell.execute_reply": "2024-04-18T07:42:50.745491Z"
    },
    "papermill": {
     "duration": 0.022537,
     "end_time": "2024-04-18T07:42:50.748678",
     "exception": false,
     "start_time": "2024-04-18T07:42:50.726141",
     "status": "completed"
    },
    "tags": []
   },
   "outputs": [
    {
     "data": {
      "application/javascript": [
       "parent.postMessage({\"jupyterEvent\": \"custom.exercise_interaction\", \"data\": {\"outcomeType\": 1, \"valueTowardsCompletion\": 0.2, \"interactionType\": 1, \"questionType\": 1, \"questionId\": \"4_GetCostPaintExample\", \"learnToolsVersion\": \"0.3.4\", \"failureMessage\": \"\", \"exceptionClass\": \"\", \"trace\": \"\"}}, \"*\")"
      ],
      "text/plain": [
       "<IPython.core.display.Javascript object>"
      ]
     },
     "metadata": {},
     "output_type": "display_data"
    },
    {
     "data": {
      "text/markdown": [
       "<span style=\"color:#33cc33\">Correct</span>"
      ],
      "text/plain": [
       "Correct"
      ]
     },
     "metadata": {},
     "output_type": "display_data"
    }
   ],
   "source": [
    "# TODO: Set the project_cost variable to the cost of the project\n",
    "project_cost = get_cost(432, 144, 400, 15)\n",
    "\n",
    "# Check your answer\n",
    "q4.check()"
   ]
  },
  {
   "cell_type": "code",
   "execution_count": 9,
   "id": "9f543fb3",
   "metadata": {
    "execution": {
     "iopub.execute_input": "2024-04-18T07:42:50.769229Z",
     "iopub.status.busy": "2024-04-18T07:42:50.768854Z",
     "iopub.status.idle": "2024-04-18T07:42:50.773782Z",
     "shell.execute_reply": "2024-04-18T07:42:50.772556Z"
    },
    "papermill": {
     "duration": 0.018485,
     "end_time": "2024-04-18T07:42:50.776550",
     "exception": false,
     "start_time": "2024-04-18T07:42:50.758065",
     "status": "completed"
    },
    "tags": []
   },
   "outputs": [],
   "source": [
    "# Uncomment to see a hint\n",
    "#q4.hint()\n",
    "\n",
    "# Uncomment to view the solution\n",
    "#q4.solution()"
   ]
  },
  {
   "cell_type": "markdown",
   "id": "0217755e",
   "metadata": {
    "papermill": {
     "duration": 0.009537,
     "end_time": "2024-04-18T07:42:50.795776",
     "exception": false,
     "start_time": "2024-04-18T07:42:50.786239",
     "status": "completed"
    },
    "tags": []
   },
   "source": [
    "# 🌶️ Question 5\n",
    "\n",
    "Now say you can no longer buy fractions of a gallon.  (For instance, if you need 4.3 gallons to do a project, then you have to buy 5 gallons of paint.)\n",
    "\n",
    "With this new scenario, you will create a new function `get_actual_cost` that uses the same inputs and calculates the cost of your project.\n",
    "\n",
    "One function that you'll need to use to do this is `math.ceil()`.  We demonstrate usage of this function in the code cell below.  It takes as a number as input and rounds the number up to the nearest integer.  \n",
    "\n",
    "Run the next code cell to test this function for yourself.  Feel free to change the value of `test_value` and make sure `math.ceil()` returns the number you expect."
   ]
  },
  {
   "cell_type": "code",
   "execution_count": 10,
   "id": "3963ebb0",
   "metadata": {
    "execution": {
     "iopub.execute_input": "2024-04-18T07:42:50.817029Z",
     "iopub.status.busy": "2024-04-18T07:42:50.816591Z",
     "iopub.status.idle": "2024-04-18T07:42:50.823206Z",
     "shell.execute_reply": "2024-04-18T07:42:50.821987Z"
    },
    "papermill": {
     "duration": 0.020212,
     "end_time": "2024-04-18T07:42:50.825905",
     "exception": false,
     "start_time": "2024-04-18T07:42:50.805693",
     "status": "completed"
    },
    "tags": []
   },
   "outputs": [
    {
     "name": "stdout",
     "output_type": "stream",
     "text": [
      "3\n"
     ]
    }
   ],
   "source": [
    "test_value = 2.17\n",
    "\n",
    "rounded_value = math.ceil(test_value)\n",
    "print(rounded_value)"
   ]
  },
  {
   "cell_type": "markdown",
   "id": "954ecf51",
   "metadata": {
    "papermill": {
     "duration": 0.009336,
     "end_time": "2024-04-18T07:42:50.845214",
     "exception": false,
     "start_time": "2024-04-18T07:42:50.835878",
     "status": "completed"
    },
    "tags": []
   },
   "source": [
    "Use the next code cell to define the function `get_actual_cost()`.  You'll need to use the `math.ceil()` function to do this.\n",
    "\n",
    "When answering this question, note that it's completely valid to define a function that makes use of another function.  For instance, we can define a function `round_up_and_divide_by_three` that makes use of the `math.ceil` function:\n",
    "```\n",
    "def round_up_and_divide_by_three(num):\n",
    "    new_value = math.ceil(num)\n",
    "    final_value = new_value / 3\n",
    "    return final_value\n",
    "```"
   ]
  },
  {
   "cell_type": "code",
   "execution_count": 11,
   "id": "95adcb82",
   "metadata": {
    "execution": {
     "iopub.execute_input": "2024-04-18T07:42:50.865805Z",
     "iopub.status.busy": "2024-04-18T07:42:50.865403Z",
     "iopub.status.idle": "2024-04-18T07:42:50.875590Z",
     "shell.execute_reply": "2024-04-18T07:42:50.874502Z"
    },
    "papermill": {
     "duration": 0.023419,
     "end_time": "2024-04-18T07:42:50.878063",
     "exception": false,
     "start_time": "2024-04-18T07:42:50.854644",
     "status": "completed"
    },
    "tags": []
   },
   "outputs": [
    {
     "data": {
      "application/javascript": [
       "parent.postMessage({\"jupyterEvent\": \"custom.exercise_interaction\", \"data\": {\"outcomeType\": 1, \"valueTowardsCompletion\": 0.2, \"interactionType\": 1, \"questionType\": 2, \"questionId\": \"5_NoMoreFractions\", \"learnToolsVersion\": \"0.3.4\", \"failureMessage\": \"\", \"exceptionClass\": \"\", \"trace\": \"\"}}, \"*\")"
      ],
      "text/plain": [
       "<IPython.core.display.Javascript object>"
      ]
     },
     "metadata": {},
     "output_type": "display_data"
    },
    {
     "data": {
      "text/markdown": [
       "<span style=\"color:#33cc33\">Correct</span>"
      ],
      "text/plain": [
       "Correct"
      ]
     },
     "metadata": {},
     "output_type": "display_data"
    }
   ],
   "source": [
    "def get_actual_cost(sqft_walls, sqft_ceiling, sqft_per_gallon,\n",
    "                    cost_per_gallon):\n",
    "    surface = sqft_walls + sqft_ceiling\n",
    "    gallons = math.ceil(surface/sqft_per_gallon)\n",
    "    cost = cost_per_gallon * gallons\n",
    "    return math.ceil(cost)\n",
    "\n",
    "# Check your answer\n",
    "q5.check()"
   ]
  },
  {
   "cell_type": "code",
   "execution_count": 12,
   "id": "ac5c1493",
   "metadata": {
    "execution": {
     "iopub.execute_input": "2024-04-18T07:42:50.899646Z",
     "iopub.status.busy": "2024-04-18T07:42:50.899263Z",
     "iopub.status.idle": "2024-04-18T07:42:50.903967Z",
     "shell.execute_reply": "2024-04-18T07:42:50.902827Z"
    },
    "papermill": {
     "duration": 0.0189,
     "end_time": "2024-04-18T07:42:50.906891",
     "exception": false,
     "start_time": "2024-04-18T07:42:50.887991",
     "status": "completed"
    },
    "tags": []
   },
   "outputs": [],
   "source": [
    "# Uncomment to see a hint\n",
    "#q5.hint()\n",
    "\n",
    "# Uncomment to view the solution\n",
    "#q5.solution()"
   ]
  },
  {
   "cell_type": "markdown",
   "id": "cfcf0e5c",
   "metadata": {
    "papermill": {
     "duration": 0.009815,
     "end_time": "2024-04-18T07:42:50.926868",
     "exception": false,
     "start_time": "2024-04-18T07:42:50.917053",
     "status": "completed"
    },
    "tags": []
   },
   "source": [
    "Once your function is verified as correct, run the next code cell to calculate the updated cost of your project."
   ]
  },
  {
   "cell_type": "code",
   "execution_count": 13,
   "id": "b5d0fed2",
   "metadata": {
    "execution": {
     "iopub.execute_input": "2024-04-18T07:42:50.949702Z",
     "iopub.status.busy": "2024-04-18T07:42:50.948589Z",
     "iopub.status.idle": "2024-04-18T07:42:50.956890Z",
     "shell.execute_reply": "2024-04-18T07:42:50.955740Z"
    },
    "papermill": {
     "duration": 0.02231,
     "end_time": "2024-04-18T07:42:50.959226",
     "exception": false,
     "start_time": "2024-04-18T07:42:50.936916",
     "status": "completed"
    },
    "tags": []
   },
   "outputs": [
    {
     "data": {
      "text/plain": [
       "30"
      ]
     },
     "execution_count": 13,
     "metadata": {},
     "output_type": "execute_result"
    }
   ],
   "source": [
    "get_actual_cost(432, 144, 400, 15) "
   ]
  },
  {
   "cell_type": "markdown",
   "id": "02cb2b6d",
   "metadata": {
    "papermill": {
     "duration": 0.010854,
     "end_time": "2024-04-18T07:42:50.980123",
     "exception": false,
     "start_time": "2024-04-18T07:42:50.969269",
     "status": "completed"
    },
    "tags": []
   },
   "source": [
    "Say you're working with a slightly larger room.  Run the next code cell to calculate the cost of the project."
   ]
  },
  {
   "cell_type": "code",
   "execution_count": 14,
   "id": "f3f89678",
   "metadata": {
    "execution": {
     "iopub.execute_input": "2024-04-18T07:42:51.002244Z",
     "iopub.status.busy": "2024-04-18T07:42:51.001825Z",
     "iopub.status.idle": "2024-04-18T07:42:51.009367Z",
     "shell.execute_reply": "2024-04-18T07:42:51.008055Z"
    },
    "papermill": {
     "duration": 0.021574,
     "end_time": "2024-04-18T07:42:51.011893",
     "exception": false,
     "start_time": "2024-04-18T07:42:50.990319",
     "status": "completed"
    },
    "tags": []
   },
   "outputs": [
    {
     "data": {
      "text/plain": [
       "45"
      ]
     },
     "execution_count": 14,
     "metadata": {},
     "output_type": "execute_result"
    }
   ],
   "source": [
    "get_actual_cost(594, 288, 400, 15) "
   ]
  },
  {
   "cell_type": "markdown",
   "id": "3df14649",
   "metadata": {
    "papermill": {
     "duration": 0.009902,
     "end_time": "2024-04-18T07:42:51.032066",
     "exception": false,
     "start_time": "2024-04-18T07:42:51.022164",
     "status": "completed"
    },
    "tags": []
   },
   "source": [
    "# Keep going\n",
    "\n",
    "Continue to learn about **[data types](https://www.kaggle.com/alexisbcook/data-types)**."
   ]
  },
  {
   "cell_type": "markdown",
   "id": "a089f451",
   "metadata": {
    "papermill": {
     "duration": 0.01001,
     "end_time": "2024-04-18T07:42:51.052278",
     "exception": false,
     "start_time": "2024-04-18T07:42:51.042268",
     "status": "completed"
    },
    "tags": []
   },
   "source": [
    "---\n",
    "\n",
    "\n",
    "\n",
    "\n",
    "*Have questions or comments? Visit the [course discussion forum](https://www.kaggle.com/learn/intro-to-programming/discussion) to chat with other learners.*"
   ]
  }
 ],
 "metadata": {
  "kaggle": {
   "accelerator": "none",
   "dataSources": [],
   "isGpuEnabled": false,
   "isInternetEnabled": false,
   "language": "python",
   "sourceType": "notebook"
  },
  "kernelspec": {
   "display_name": "Python 3",
   "language": "python",
   "name": "python3"
  },
  "language_info": {
   "codemirror_mode": {
    "name": "ipython",
    "version": 3
   },
   "file_extension": ".py",
   "mimetype": "text/x-python",
   "name": "python",
   "nbconvert_exporter": "python",
   "pygments_lexer": "ipython3",
   "version": "3.10.13"
  },
  "papermill": {
   "default_parameters": {},
   "duration": 5.256068,
   "end_time": "2024-04-18T07:42:51.583034",
   "environment_variables": {},
   "exception": null,
   "input_path": "__notebook__.ipynb",
   "output_path": "__notebook__.ipynb",
   "parameters": {},
   "start_time": "2024-04-18T07:42:46.326966",
   "version": "2.5.0"
  }
 },
 "nbformat": 4,
 "nbformat_minor": 5
}
