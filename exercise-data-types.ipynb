{
 "cells": [
  {
   "cell_type": "markdown",
   "id": "b64dbd04",
   "metadata": {
    "papermill": {
     "duration": 0.008991,
     "end_time": "2024-04-18T07:52:39.353924",
     "exception": false,
     "start_time": "2024-04-18T07:52:39.344933",
     "status": "completed"
    },
    "tags": []
   },
   "source": [
    "**This notebook is an exercise in the [Intro to Programming](https://www.kaggle.com/learn/intro-to-programming) course.  You can reference the tutorial at [this link](https://www.kaggle.com/alexisbcook/data-types).**\n",
    "\n",
    "---\n"
   ]
  },
  {
   "cell_type": "markdown",
   "id": "5a65181a",
   "metadata": {
    "papermill": {
     "duration": 0.008266,
     "end_time": "2024-04-18T07:52:39.371640",
     "exception": false,
     "start_time": "2024-04-18T07:52:39.363374",
     "status": "completed"
    },
    "tags": []
   },
   "source": [
    "In the tutorial, you learned about four different data types: floats, integers, strings, and booleans.  In this exercise, you'll experiment with them.\n",
    "\n",
    "# Set up the notebook\n",
    "\n",
    "Run the next code cell without changes to set up the notebook."
   ]
  },
  {
   "cell_type": "code",
   "execution_count": 1,
   "id": "3a5b94a7",
   "metadata": {
    "execution": {
     "iopub.execute_input": "2024-04-18T07:52:39.391052Z",
     "iopub.status.busy": "2024-04-18T07:52:39.390575Z",
     "iopub.status.idle": "2024-04-18T07:52:40.385486Z",
     "shell.execute_reply": "2024-04-18T07:52:40.384323Z"
    },
    "papermill": {
     "duration": 1.007764,
     "end_time": "2024-04-18T07:52:40.388044",
     "exception": false,
     "start_time": "2024-04-18T07:52:39.380280",
     "status": "completed"
    },
    "tags": []
   },
   "outputs": [
    {
     "name": "stdout",
     "output_type": "stream",
     "text": [
      "Setup complete.\n"
     ]
    }
   ],
   "source": [
    "# Set up the exercise\n",
    "from learntools.core import binder\n",
    "binder.bind(globals())\n",
    "from learntools.intro_to_programming.ex3 import *\n",
    "print('Setup complete.')"
   ]
  },
  {
   "cell_type": "markdown",
   "id": "dfc96e5e",
   "metadata": {
    "papermill": {
     "duration": 0.0084,
     "end_time": "2024-04-18T07:52:40.405459",
     "exception": false,
     "start_time": "2024-04-18T07:52:40.397059",
     "status": "completed"
    },
    "tags": []
   },
   "source": [
    "# Question 1\n",
    "\n",
    "You have seen how to convert a float to an integer with the `int` function.  Try this out yourself by running the code cell below."
   ]
  },
  {
   "cell_type": "code",
   "execution_count": 2,
   "id": "c543ff5c",
   "metadata": {
    "execution": {
     "iopub.execute_input": "2024-04-18T07:52:40.424913Z",
     "iopub.status.busy": "2024-04-18T07:52:40.424147Z",
     "iopub.status.idle": "2024-04-18T07:52:40.431030Z",
     "shell.execute_reply": "2024-04-18T07:52:40.429940Z"
    },
    "papermill": {
     "duration": 0.019181,
     "end_time": "2024-04-18T07:52:40.433303",
     "exception": false,
     "start_time": "2024-04-18T07:52:40.414122",
     "status": "completed"
    },
    "tags": []
   },
   "outputs": [
    {
     "name": "stdout",
     "output_type": "stream",
     "text": [
      "1.0\n",
      "<class 'float'>\n",
      "1\n",
      "<class 'int'>\n"
     ]
    }
   ],
   "source": [
    "# Define a float\n",
    "y = 1.\n",
    "print(y)\n",
    "print(type(y))\n",
    "\n",
    "# Convert float to integer with the int function\n",
    "z = int(y)\n",
    "print(z)\n",
    "print(type(z))"
   ]
  },
  {
   "cell_type": "markdown",
   "id": "3ff0a36f",
   "metadata": {
    "papermill": {
     "duration": 0.008443,
     "end_time": "2024-04-18T07:52:40.450596",
     "exception": false,
     "start_time": "2024-04-18T07:52:40.442153",
     "status": "completed"
    },
    "tags": []
   },
   "source": [
    "In this case, the float you are using has no numbers after the decimal.  \n",
    "- But what happens when you try to convert a float with a fractional part to an integer?  \n",
    "- How does the outcome of the `int` function change for positive and negative numbers?\n",
    "\n",
    "Use the next code cell to investigate and answer these questions.  Feel free to add or remove any lines of code -- it is your workspace!"
   ]
  },
  {
   "cell_type": "code",
   "execution_count": 3,
   "id": "241ff6d4",
   "metadata": {
    "execution": {
     "iopub.execute_input": "2024-04-18T07:52:40.469953Z",
     "iopub.status.busy": "2024-04-18T07:52:40.469516Z",
     "iopub.status.idle": "2024-04-18T07:52:40.475591Z",
     "shell.execute_reply": "2024-04-18T07:52:40.474542Z"
    },
    "papermill": {
     "duration": 0.018371,
     "end_time": "2024-04-18T07:52:40.477768",
     "exception": false,
     "start_time": "2024-04-18T07:52:40.459397",
     "status": "completed"
    },
    "tags": []
   },
   "outputs": [
    {
     "name": "stdout",
     "output_type": "stream",
     "text": [
      "1\n",
      "1\n",
      "-3\n",
      "-2\n"
     ]
    }
   ],
   "source": [
    "# Uncomment and run this code to get started!\n",
    "print(int(1.2321))\n",
    "print(int(1.747))\n",
    "print(int(-3.94535))\n",
    "print(int(-2.19774))"
   ]
  },
  {
   "cell_type": "markdown",
   "id": "85f69f35",
   "metadata": {
    "papermill": {
     "duration": 0.008593,
     "end_time": "2024-04-18T07:52:40.495296",
     "exception": false,
     "start_time": "2024-04-18T07:52:40.486703",
     "status": "completed"
    },
    "tags": []
   },
   "source": [
    "Once you have an answer, run the code cell below to see the solution.  Viewing the solution will give you credit for answering the problem."
   ]
  },
  {
   "cell_type": "code",
   "execution_count": 4,
   "id": "74139818",
   "metadata": {
    "execution": {
     "iopub.execute_input": "2024-04-18T07:52:40.514638Z",
     "iopub.status.busy": "2024-04-18T07:52:40.514145Z",
     "iopub.status.idle": "2024-04-18T07:52:40.524233Z",
     "shell.execute_reply": "2024-04-18T07:52:40.523167Z"
    },
    "papermill": {
     "duration": 0.022429,
     "end_time": "2024-04-18T07:52:40.526487",
     "exception": false,
     "start_time": "2024-04-18T07:52:40.504058",
     "status": "completed"
    },
    "tags": []
   },
   "outputs": [
    {
     "data": {
      "application/javascript": [
       "parent.postMessage({\"jupyterEvent\": \"custom.exercise_interaction\", \"data\": {\"outcomeType\": 1, \"valueTowardsCompletion\": 0.2, \"interactionType\": 1, \"questionType\": 4, \"questionId\": \"1_FloatToInt\", \"learnToolsVersion\": \"0.3.4\", \"failureMessage\": \"\", \"exceptionClass\": \"\", \"trace\": \"\"}}, \"*\")"
      ],
      "text/plain": [
       "<IPython.core.display.Javascript object>"
      ]
     },
     "metadata": {},
     "output_type": "display_data"
    },
    {
     "data": {
      "text/markdown": [
       "<span style=\"color:#33cc33\">Correct:</span> \n",
       "\n",
       "Negative floats are always rounded UP to the closest integer (for instance, both -1.1 and -1.9 are rounded up to -1). Positive floats are always rounded DOWN to the closest integer (for instance, 2.1 and 2.9 are rounded down to 2)."
      ],
      "text/plain": [
       "Correct: \n",
       "\n",
       "Negative floats are always rounded UP to the closest integer (for instance, both -1.1 and -1.9 are rounded up to -1). Positive floats are always rounded DOWN to the closest integer (for instance, 2.1 and 2.9 are rounded down to 2)."
      ]
     },
     "metadata": {},
     "output_type": "display_data"
    }
   ],
   "source": [
    "# Check your answer (Run this code cell to receive credit!)\n",
    "q1.check()"
   ]
  },
  {
   "cell_type": "markdown",
   "id": "40b49313",
   "metadata": {
    "papermill": {
     "duration": 0.008886,
     "end_time": "2024-04-18T07:52:40.545584",
     "exception": false,
     "start_time": "2024-04-18T07:52:40.536698",
     "status": "completed"
    },
    "tags": []
   },
   "source": [
    "# Question 2\n",
    "\n",
    "In the tutorial, you learned about booleans (which can take a value of `True` or `False`), in addition to integers, floats, and strings.  For this question, your goal is to determine what happens when you multiply a boolean by any of these data types.  Specifically, \n",
    "- What happens when you multiply an integer or float by `True`?  What happens when you multiply them by `False`?  How does the answer change if the numbers are positive or negative?\n",
    "- What happens when you multiply a string by `True`?  By `False`?\n",
    "\n",
    "Use the next code cell for your investigation. "
   ]
  },
  {
   "cell_type": "code",
   "execution_count": 5,
   "id": "47a829ce",
   "metadata": {
    "execution": {
     "iopub.execute_input": "2024-04-18T07:52:40.565615Z",
     "iopub.status.busy": "2024-04-18T07:52:40.565201Z",
     "iopub.status.idle": "2024-04-18T07:52:40.571653Z",
     "shell.execute_reply": "2024-04-18T07:52:40.570566Z"
    },
    "papermill": {
     "duration": 0.019485,
     "end_time": "2024-04-18T07:52:40.574201",
     "exception": false,
     "start_time": "2024-04-18T07:52:40.554716",
     "status": "completed"
    },
    "tags": []
   },
   "outputs": [
    {
     "name": "stdout",
     "output_type": "stream",
     "text": [
      "3\n",
      "-3.1\n",
      "<class 'str'>\n",
      "0\n"
     ]
    }
   ],
   "source": [
    "# Uncomment and run this code to get started!\n",
    "print(3 * True)\n",
    "print(-3.1 * True)\n",
    "print(type(\"abc\" * False))\n",
    "print(len(\"abc\" * False))"
   ]
  },
  {
   "cell_type": "markdown",
   "id": "74979417",
   "metadata": {
    "papermill": {
     "duration": 0.008899,
     "end_time": "2024-04-18T07:52:40.592852",
     "exception": false,
     "start_time": "2024-04-18T07:52:40.583953",
     "status": "completed"
    },
    "tags": []
   },
   "source": [
    "Once you have an answer, run the code cell below to see the solution.  Viewing the solution will give you credit for answering the problem."
   ]
  },
  {
   "cell_type": "code",
   "execution_count": 6,
   "id": "79083cfd",
   "metadata": {
    "execution": {
     "iopub.execute_input": "2024-04-18T07:52:40.613587Z",
     "iopub.status.busy": "2024-04-18T07:52:40.612614Z",
     "iopub.status.idle": "2024-04-18T07:52:40.621823Z",
     "shell.execute_reply": "2024-04-18T07:52:40.620699Z"
    },
    "papermill": {
     "duration": 0.022118,
     "end_time": "2024-04-18T07:52:40.624254",
     "exception": false,
     "start_time": "2024-04-18T07:52:40.602136",
     "status": "completed"
    },
    "tags": []
   },
   "outputs": [
    {
     "data": {
      "application/javascript": [
       "parent.postMessage({\"jupyterEvent\": \"custom.exercise_interaction\", \"data\": {\"outcomeType\": 1, \"valueTowardsCompletion\": 0.2, \"interactionType\": 1, \"questionType\": 4, \"questionId\": \"2_MultiplyBooleans\", \"learnToolsVersion\": \"0.3.4\", \"failureMessage\": \"\", \"exceptionClass\": \"\", \"trace\": \"\"}}, \"*\")"
      ],
      "text/plain": [
       "<IPython.core.display.Javascript object>"
      ]
     },
     "metadata": {},
     "output_type": "display_data"
    },
    {
     "data": {
      "text/markdown": [
       "<span style=\"color:#33cc33\">Correct:</span> \n",
       "\n",
       "When you multiple an integer or float by a boolean with value `True`, it just returns that same integer or float (and is equivalent to multiplying by 1).  If you multiply an integer or float by a boolean with value `False`, it always returns 0.  This is true for both positive and negative numbers.  If you multiply a string by a boolean with value `True`, it just returns that same string.  And if you multiply a string by a boolean with value `False`, it returns an empty string (or a string with length zero)."
      ],
      "text/plain": [
       "Correct: \n",
       "\n",
       "When you multiple an integer or float by a boolean with value `True`, it just returns that same integer or float (and is equivalent to multiplying by 1).  If you multiply an integer or float by a boolean with value `False`, it always returns 0.  This is true for both positive and negative numbers.  If you multiply a string by a boolean with value `True`, it just returns that same string.  And if you multiply a string by a boolean with value `False`, it returns an empty string (or a string with length zero)."
      ]
     },
     "metadata": {},
     "output_type": "display_data"
    }
   ],
   "source": [
    "# Check your answer (Run this code cell to receive credit!)\n",
    "q2.check()"
   ]
  },
  {
   "cell_type": "markdown",
   "id": "3042b7ca",
   "metadata": {
    "papermill": {
     "duration": 0.009218,
     "end_time": "2024-04-18T07:52:40.643242",
     "exception": false,
     "start_time": "2024-04-18T07:52:40.634024",
     "status": "completed"
    },
    "tags": []
   },
   "source": [
    "# Question 3\n",
    "\n",
    "In this question, you will build off your work from the previous exercise to write a function that estimates the value of a house.\n",
    "\n",
    "Use the next code cell to create a function `get_expected_cost` that takes as input three variables:\n",
    "- `beds` - number of bedrooms (data type float)\n",
    "- `baths` - number of bathrooms (data type float)\n",
    "- `has_basement` - whether or not the house has a basement (data type boolean)\n",
    "\n",
    "It should return the expected cost of a house with those characteristics. Assume that:\n",
    "- the expected cost for a house with 0 bedrooms and 0 bathrooms, and no basement is 80000, \n",
    "- each bedroom adds 30000 to the expected cost,\n",
    "- each bathroom adds 10000 to the expected cost, and\n",
    "- a basement adds 40000 to the expected cost.\n",
    "\n",
    "For instance,\n",
    "- a house with 1 bedroom, 1 bathroom, and no basement has an expected cost of 80000 + 30000 + 10000 = 120000.  This value will be calculated with `get_expected_cost(1, 1, False)`.\n",
    "- a house with 2 bedrooms, 1 bathroom, and a basement has an expected cost of 80000 + 2*30000 + 10000 + 40000 = 190000.  This value will be calculated with `get_expected_cost(2, 1, True)`.\n",
    "\n",
    "Remember you can always get a hint by uncommenting `q3.hint()` in the code cell following the next!"
   ]
  },
  {
   "cell_type": "code",
   "execution_count": 7,
   "id": "1d96011c",
   "metadata": {
    "execution": {
     "iopub.execute_input": "2024-04-18T07:52:40.664647Z",
     "iopub.status.busy": "2024-04-18T07:52:40.663952Z",
     "iopub.status.idle": "2024-04-18T07:52:40.674211Z",
     "shell.execute_reply": "2024-04-18T07:52:40.672987Z"
    },
    "papermill": {
     "duration": 0.024798,
     "end_time": "2024-04-18T07:52:40.677623",
     "exception": false,
     "start_time": "2024-04-18T07:52:40.652825",
     "status": "completed"
    },
    "tags": []
   },
   "outputs": [
    {
     "data": {
      "application/javascript": [
       "parent.postMessage({\"jupyterEvent\": \"custom.exercise_interaction\", \"data\": {\"outcomeType\": 1, \"valueTowardsCompletion\": 0.2, \"interactionType\": 1, \"questionType\": 2, \"questionId\": \"3_EstimateHouseValueBool\", \"learnToolsVersion\": \"0.3.4\", \"failureMessage\": \"\", \"exceptionClass\": \"\", \"trace\": \"\"}}, \"*\")"
      ],
      "text/plain": [
       "<IPython.core.display.Javascript object>"
      ]
     },
     "metadata": {},
     "output_type": "display_data"
    },
    {
     "data": {
      "text/markdown": [
       "<span style=\"color:#33cc33\">Correct</span>"
      ],
      "text/plain": [
       "Correct"
      ]
     },
     "metadata": {},
     "output_type": "display_data"
    }
   ],
   "source": [
    "# TODO: Complete the function\n",
    "def get_expected_cost(beds, baths, has_basement):\n",
    "    value = 80000 + (beds * 30000) + (baths * 10000) + (has_basement * 40000)\n",
    "    return value\n",
    "\n",
    "# Check your answer \n",
    "q3.check()"
   ]
  },
  {
   "cell_type": "code",
   "execution_count": 8,
   "id": "0c78257d",
   "metadata": {
    "execution": {
     "iopub.execute_input": "2024-04-18T07:52:40.700909Z",
     "iopub.status.busy": "2024-04-18T07:52:40.700487Z",
     "iopub.status.idle": "2024-04-18T07:52:40.705516Z",
     "shell.execute_reply": "2024-04-18T07:52:40.704361Z"
    },
    "papermill": {
     "duration": 0.020106,
     "end_time": "2024-04-18T07:52:40.707918",
     "exception": false,
     "start_time": "2024-04-18T07:52:40.687812",
     "status": "completed"
    },
    "tags": []
   },
   "outputs": [],
   "source": [
    "# Uncomment to see a hint\n",
    "#q3.hint()\n",
    "\n",
    "# Uncomment to view the solution\n",
    "#q3.solution()"
   ]
  },
  {
   "cell_type": "markdown",
   "id": "a5cce856",
   "metadata": {
    "papermill": {
     "duration": 0.009593,
     "end_time": "2024-04-18T07:52:40.727626",
     "exception": false,
     "start_time": "2024-04-18T07:52:40.718033",
     "status": "completed"
    },
    "tags": []
   },
   "source": [
    "# Question 4\n",
    "\n",
    "We'll continue our study of boolean arithmetic.  For this question, your task is to provide a description of what happpens when you add booleans. \n",
    "\n",
    "Use the next code cell for your investigation.  Feel free to add or remove any lines of code - use it as your workspace!"
   ]
  },
  {
   "cell_type": "code",
   "execution_count": 9,
   "id": "1e7fba1f",
   "metadata": {
    "execution": {
     "iopub.execute_input": "2024-04-18T07:52:40.749226Z",
     "iopub.status.busy": "2024-04-18T07:52:40.748842Z",
     "iopub.status.idle": "2024-04-18T07:52:40.755202Z",
     "shell.execute_reply": "2024-04-18T07:52:40.754131Z"
    },
    "papermill": {
     "duration": 0.020565,
     "end_time": "2024-04-18T07:52:40.758183",
     "exception": false,
     "start_time": "2024-04-18T07:52:40.737618",
     "status": "completed"
    },
    "tags": []
   },
   "outputs": [
    {
     "name": "stdout",
     "output_type": "stream",
     "text": [
      "0\n",
      "1\n",
      "1\n",
      "2\n",
      "3\n"
     ]
    }
   ],
   "source": [
    "print(False + False)\n",
    "print(True + False)\n",
    "print(False + True)\n",
    "print(True + True)\n",
    "print(False + True + True + True)"
   ]
  },
  {
   "cell_type": "markdown",
   "id": "f36a3224",
   "metadata": {
    "papermill": {
     "duration": 0.00977,
     "end_time": "2024-04-18T07:52:40.778013",
     "exception": false,
     "start_time": "2024-04-18T07:52:40.768243",
     "status": "completed"
    },
    "tags": []
   },
   "source": [
    "Once you have an answer, run the code cell below to see the solution.  Viewing the solution will give you credit for answering the problem."
   ]
  },
  {
   "cell_type": "code",
   "execution_count": 10,
   "id": "2a2cc826",
   "metadata": {
    "execution": {
     "iopub.execute_input": "2024-04-18T07:52:40.800290Z",
     "iopub.status.busy": "2024-04-18T07:52:40.799443Z",
     "iopub.status.idle": "2024-04-18T07:52:40.808366Z",
     "shell.execute_reply": "2024-04-18T07:52:40.807240Z"
    },
    "papermill": {
     "duration": 0.022699,
     "end_time": "2024-04-18T07:52:40.810791",
     "exception": false,
     "start_time": "2024-04-18T07:52:40.788092",
     "status": "completed"
    },
    "tags": []
   },
   "outputs": [
    {
     "data": {
      "application/javascript": [
       "parent.postMessage({\"jupyterEvent\": \"custom.exercise_interaction\", \"data\": {\"outcomeType\": 1, \"valueTowardsCompletion\": 0.2, \"interactionType\": 1, \"questionType\": 4, \"questionId\": \"4_AddingBooleans\", \"learnToolsVersion\": \"0.3.4\", \"failureMessage\": \"\", \"exceptionClass\": \"\", \"trace\": \"\"}}, \"*\")"
      ],
      "text/plain": [
       "<IPython.core.display.Javascript object>"
      ]
     },
     "metadata": {},
     "output_type": "display_data"
    },
    {
     "data": {
      "text/markdown": [
       "<span style=\"color:#33cc33\">Correct:</span> \n",
       "\n",
       "When you add booleans, adding `False` is equivalent to adding 0, and adding `True` is equivalent to adding 1."
      ],
      "text/plain": [
       "Correct: \n",
       "\n",
       "When you add booleans, adding `False` is equivalent to adding 0, and adding `True` is equivalent to adding 1."
      ]
     },
     "metadata": {},
     "output_type": "display_data"
    }
   ],
   "source": [
    "# Check your answer (Run this code cell to receive credit!)\n",
    "q4.check()"
   ]
  },
  {
   "cell_type": "markdown",
   "id": "e10f411d",
   "metadata": {
    "papermill": {
     "duration": 0.011059,
     "end_time": "2024-04-18T07:52:40.832237",
     "exception": false,
     "start_time": "2024-04-18T07:52:40.821178",
     "status": "completed"
    },
    "tags": []
   },
   "source": [
    "# 🌶️ Question 5\n",
    "\n",
    "You own an online shop where you sell rings with custom engravings.  You offer both gold plated and solid gold rings.\n",
    "- Gold plated rings have a base cost of \\\\$50, and you charge \\\\$7 per engraved unit.  \n",
    "- Solid gold rings have a base cost of \\\\$100, and you charge \\\\$10 per engraved unit.\n",
    "- Spaces and punctuation are counted as engraved units.\n",
    "\n",
    "Write a function `cost_of_project()` that takes two arguments:\n",
    "- `engraving` - a Python string with the text of the engraving\n",
    "- `solid_gold` - a Boolean that indicates whether the ring is solid gold\n",
    "\n",
    "It should return the cost of the project.  This question should be fairly challenging, and you may need a hint."
   ]
  },
  {
   "cell_type": "code",
   "execution_count": 11,
   "id": "62a09818",
   "metadata": {
    "execution": {
     "iopub.execute_input": "2024-04-18T07:52:40.855272Z",
     "iopub.status.busy": "2024-04-18T07:52:40.854496Z",
     "iopub.status.idle": "2024-04-18T07:52:40.864602Z",
     "shell.execute_reply": "2024-04-18T07:52:40.863552Z"
    },
    "papermill": {
     "duration": 0.024064,
     "end_time": "2024-04-18T07:52:40.866912",
     "exception": false,
     "start_time": "2024-04-18T07:52:40.842848",
     "status": "completed"
    },
    "tags": []
   },
   "outputs": [
    {
     "data": {
      "application/javascript": [
       "parent.postMessage({\"jupyterEvent\": \"custom.exercise_interaction\", \"data\": {\"outcomeType\": 1, \"valueTowardsCompletion\": 0.2, \"interactionType\": 1, \"questionType\": 2, \"questionId\": \"5_CustomEngravings\", \"learnToolsVersion\": \"0.3.4\", \"failureMessage\": \"\", \"exceptionClass\": \"\", \"trace\": \"\"}}, \"*\")"
      ],
      "text/plain": [
       "<IPython.core.display.Javascript object>"
      ]
     },
     "metadata": {},
     "output_type": "display_data"
    },
    {
     "data": {
      "text/markdown": [
       "<span style=\"color:#33cc33\">Correct</span>"
      ],
      "text/plain": [
       "Correct"
      ]
     },
     "metadata": {},
     "output_type": "display_data"
    }
   ],
   "source": [
    "def cost_of_project(engraving, solid_gold):\n",
    "    if solid_gold:\n",
    "        ring_cost = 100\n",
    "        engrav_cost = 10\n",
    "    else:\n",
    "        ring_cost = 50\n",
    "        engrav_cost = 7\n",
    "    cost = ring_cost + (engrav_cost * len(engraving))\n",
    "    return cost\n",
    "\n",
    "# Check your answer\n",
    "q5.check()"
   ]
  },
  {
   "cell_type": "code",
   "execution_count": 12,
   "id": "42c79ed1",
   "metadata": {
    "execution": {
     "iopub.execute_input": "2024-04-18T07:52:40.890153Z",
     "iopub.status.busy": "2024-04-18T07:52:40.889752Z",
     "iopub.status.idle": "2024-04-18T07:52:40.894604Z",
     "shell.execute_reply": "2024-04-18T07:52:40.893520Z"
    },
    "papermill": {
     "duration": 0.019317,
     "end_time": "2024-04-18T07:52:40.896967",
     "exception": false,
     "start_time": "2024-04-18T07:52:40.877650",
     "status": "completed"
    },
    "tags": []
   },
   "outputs": [],
   "source": [
    "# Uncomment to see a hint\n",
    "#q5.hint()\n",
    "\n",
    "# Uncomment to view the solution\n",
    "#q5.solution()"
   ]
  },
  {
   "cell_type": "markdown",
   "id": "b27d5449",
   "metadata": {
    "papermill": {
     "duration": 0.010574,
     "end_time": "2024-04-18T07:52:40.918170",
     "exception": false,
     "start_time": "2024-04-18T07:52:40.907596",
     "status": "completed"
    },
    "tags": []
   },
   "source": [
    "Run the next code cell to calculate the cost of engraving `Charlie+Denver` on a solid gold ring."
   ]
  },
  {
   "cell_type": "code",
   "execution_count": 13,
   "id": "f7b27435",
   "metadata": {
    "execution": {
     "iopub.execute_input": "2024-04-18T07:52:40.941273Z",
     "iopub.status.busy": "2024-04-18T07:52:40.940860Z",
     "iopub.status.idle": "2024-04-18T07:52:40.946390Z",
     "shell.execute_reply": "2024-04-18T07:52:40.945122Z"
    },
    "papermill": {
     "duration": 0.020364,
     "end_time": "2024-04-18T07:52:40.949222",
     "exception": false,
     "start_time": "2024-04-18T07:52:40.928858",
     "status": "completed"
    },
    "tags": []
   },
   "outputs": [
    {
     "name": "stdout",
     "output_type": "stream",
     "text": [
      "240\n"
     ]
    }
   ],
   "source": [
    "project_one = cost_of_project(\"Charlie+Denver\", True)\n",
    "print(project_one)"
   ]
  },
  {
   "cell_type": "markdown",
   "id": "3f1483c3",
   "metadata": {
    "papermill": {
     "duration": 0.01036,
     "end_time": "2024-04-18T07:52:40.970488",
     "exception": false,
     "start_time": "2024-04-18T07:52:40.960128",
     "status": "completed"
    },
    "tags": []
   },
   "source": [
    "Use the next code cell to calculate the cost of engraving `08/10/2000` on a gold plated ring."
   ]
  },
  {
   "cell_type": "code",
   "execution_count": 14,
   "id": "1fc4128a",
   "metadata": {
    "execution": {
     "iopub.execute_input": "2024-04-18T07:52:40.993920Z",
     "iopub.status.busy": "2024-04-18T07:52:40.993524Z",
     "iopub.status.idle": "2024-04-18T07:52:40.998697Z",
     "shell.execute_reply": "2024-04-18T07:52:40.997568Z"
    },
    "papermill": {
     "duration": 0.020139,
     "end_time": "2024-04-18T07:52:41.001347",
     "exception": false,
     "start_time": "2024-04-18T07:52:40.981208",
     "status": "completed"
    },
    "tags": []
   },
   "outputs": [
    {
     "name": "stdout",
     "output_type": "stream",
     "text": [
      "120\n"
     ]
    }
   ],
   "source": [
    "project_two = cost_of_project(\"08/10/2000\", False)\n",
    "print(project_two)"
   ]
  },
  {
   "cell_type": "markdown",
   "id": "dc525001",
   "metadata": {
    "papermill": {
     "duration": 0.011172,
     "end_time": "2024-04-18T07:52:41.023376",
     "exception": false,
     "start_time": "2024-04-18T07:52:41.012204",
     "status": "completed"
    },
    "tags": []
   },
   "source": [
    "# Keep going\n",
    "\n",
    "Continue to the next lesson to **[learn about conditions and conditional statements](https://www.kaggle.com/alexisbcook/conditions-and-conditional-statements)**."
   ]
  },
  {
   "cell_type": "markdown",
   "id": "e43d8483",
   "metadata": {
    "papermill": {
     "duration": 0.010693,
     "end_time": "2024-04-18T07:52:41.045667",
     "exception": false,
     "start_time": "2024-04-18T07:52:41.034974",
     "status": "completed"
    },
    "tags": []
   },
   "source": [
    "---\n",
    "\n",
    "\n",
    "\n",
    "\n",
    "*Have questions or comments? Visit the [course discussion forum](https://www.kaggle.com/learn/intro-to-programming/discussion) to chat with other learners.*"
   ]
  }
 ],
 "metadata": {
  "kaggle": {
   "accelerator": "none",
   "dataSources": [],
   "isGpuEnabled": false,
   "isInternetEnabled": false,
   "language": "python",
   "sourceType": "notebook"
  },
  "kernelspec": {
   "display_name": "Python 3",
   "language": "python",
   "name": "python3"
  },
  "language_info": {
   "codemirror_mode": {
    "name": "ipython",
    "version": 3
   },
   "file_extension": ".py",
   "mimetype": "text/x-python",
   "name": "python",
   "nbconvert_exporter": "python",
   "pygments_lexer": "ipython3",
   "version": "3.10.13"
  },
  "papermill": {
   "default_parameters": {},
   "duration": 4.976224,
   "end_time": "2024-04-18T07:52:41.175787",
   "environment_variables": {},
   "exception": null,
   "input_path": "__notebook__.ipynb",
   "output_path": "__notebook__.ipynb",
   "parameters": {},
   "start_time": "2024-04-18T07:52:36.199563",
   "version": "2.3.3"
  }
 },
 "nbformat": 4,
 "nbformat_minor": 5
}
