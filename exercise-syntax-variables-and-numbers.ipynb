{
 "cells": [
  {
   "cell_type": "markdown",
   "id": "9db760f0",
   "metadata": {
    "papermill": {
     "duration": 0.011022,
     "end_time": "2024-04-25T07:03:17.226102",
     "exception": false,
     "start_time": "2024-04-25T07:03:17.215080",
     "status": "completed"
    },
    "tags": []
   },
   "source": [
    "**This notebook is an exercise in the [Python](https://www.kaggle.com/learn/python) course.  You can reference the tutorial at [this link](https://www.kaggle.com/colinmorris/hello-python).**\n",
    "\n",
    "---\n"
   ]
  },
  {
   "cell_type": "markdown",
   "id": "b9cf9dd8",
   "metadata": {
    "papermill": {
     "duration": 0.009406,
     "end_time": "2024-04-25T07:03:17.245592",
     "exception": false,
     "start_time": "2024-04-25T07:03:17.236186",
     "status": "completed"
    },
    "tags": []
   },
   "source": [
    "Welcome to your first set of Python coding problems.  If this is your first time using Kaggle Notebooks, welcome! \n",
    "\n",
    "Notebooks are composed of blocks (called \"cells\") of text and code. Each of these is editable, though you'll mainly be editing the code cells to answer some questions.\n",
    "\n",
    "To get started, try running the code cell below (by pressing the ► button, or clicking on the cell and pressing ctrl+enter on your keyboard)."
   ]
  },
  {
   "cell_type": "code",
   "execution_count": 1,
   "id": "7d3bd3c8",
   "metadata": {
    "execution": {
     "iopub.execute_input": "2024-04-25T07:03:17.267404Z",
     "iopub.status.busy": "2024-04-25T07:03:17.266977Z",
     "iopub.status.idle": "2024-04-25T07:03:17.282491Z",
     "shell.execute_reply": "2024-04-25T07:03:17.280554Z"
    },
    "papermill": {
     "duration": 0.029838,
     "end_time": "2024-04-25T07:03:17.285253",
     "exception": false,
     "start_time": "2024-04-25T07:03:17.255415",
     "status": "completed"
    },
    "tags": []
   },
   "outputs": [
    {
     "name": "stdout",
     "output_type": "stream",
     "text": [
      "You've successfully run some Python code\n",
      "Congratulations!\n"
     ]
    }
   ],
   "source": [
    "print(\"You've successfully run some Python code\")\n",
    "print(\"Congratulations!\")"
   ]
  },
  {
   "cell_type": "markdown",
   "id": "4236cc4e",
   "metadata": {
    "papermill": {
     "duration": 0.009518,
     "end_time": "2024-04-25T07:03:17.304622",
     "exception": false,
     "start_time": "2024-04-25T07:03:17.295104",
     "status": "completed"
    },
    "tags": []
   },
   "source": [
    "Try adding another line of code in the cell above and re-running it. \n",
    "\n",
    "Now let's get a little fancier:  Add a new code cell by clicking on an existing code cell, hitting the escape key, and then hitting the `a` or `b` key.  The `a` key will add a cell above the current cell, and `b` adds a cell below.\n",
    "\n",
    "Great! Now you know how to use Notebooks.\n",
    "\n",
    "Each hands-on exercise starts by setting up our feedback and code checking mechanism. Run the code cell below to do that. Then you'll be ready to move on to question 0."
   ]
  },
  {
   "cell_type": "code",
   "execution_count": 2,
   "id": "e6b30d9e",
   "metadata": {
    "_kg_hide-input": true,
    "_kg_hide-output": true,
    "execution": {
     "iopub.execute_input": "2024-04-25T07:03:17.326382Z",
     "iopub.status.busy": "2024-04-25T07:03:17.325958Z",
     "iopub.status.idle": "2024-04-25T07:03:18.475347Z",
     "shell.execute_reply": "2024-04-25T07:03:18.473650Z"
    },
    "papermill": {
     "duration": 1.164044,
     "end_time": "2024-04-25T07:03:18.478585",
     "exception": false,
     "start_time": "2024-04-25T07:03:17.314541",
     "status": "completed"
    },
    "tags": []
   },
   "outputs": [
    {
     "name": "stdout",
     "output_type": "stream",
     "text": [
      "Setup complete! You're ready to start question 0.\n"
     ]
    }
   ],
   "source": [
    "from learntools.core import binder; binder.bind(globals())\n",
    "from learntools.python.ex1 import *\n",
    "print(\"Setup complete! You're ready to start question 0.\")"
   ]
  },
  {
   "cell_type": "markdown",
   "id": "b2b4b3f9",
   "metadata": {
    "papermill": {
     "duration": 0.010057,
     "end_time": "2024-04-25T07:03:18.498578",
     "exception": false,
     "start_time": "2024-04-25T07:03:18.488521",
     "status": "completed"
    },
    "tags": []
   },
   "source": [
    "# 0.\n",
    "\n",
    "*This is a silly question intended as an introduction to the format we use for hands-on exercises throughout all Kaggle courses.*\n",
    "\n",
    "**What is your favorite color? **\n",
    "\n",
    "To complete this question, create a variable called `color` in the cell below with an appropriate value. The function call `q0.check()` (which we've already provided in the cell below) will check your answer."
   ]
  },
  {
   "cell_type": "code",
   "execution_count": 3,
   "id": "90c62d9c",
   "metadata": {
    "execution": {
     "iopub.execute_input": "2024-04-25T07:03:18.521716Z",
     "iopub.status.busy": "2024-04-25T07:03:18.521166Z",
     "iopub.status.idle": "2024-04-25T07:03:18.534421Z",
     "shell.execute_reply": "2024-04-25T07:03:18.532655Z"
    },
    "papermill": {
     "duration": 0.028506,
     "end_time": "2024-04-25T07:03:18.537102",
     "exception": false,
     "start_time": "2024-04-25T07:03:18.508596",
     "status": "completed"
    },
    "tags": []
   },
   "outputs": [
    {
     "data": {
      "application/javascript": [
       "parent.postMessage({\"jupyterEvent\": \"custom.exercise_interaction\", \"data\": {\"outcomeType\": 1, \"valueTowardsCompletion\": 0.25, \"interactionType\": 1, \"questionType\": 2, \"questionId\": \"0_ExerciseFormatTutorial\", \"learnToolsVersion\": \"0.3.4\", \"failureMessage\": \"\", \"exceptionClass\": \"\", \"trace\": \"\"}}, \"*\")"
      ],
      "text/plain": [
       "<IPython.core.display.Javascript object>"
      ]
     },
     "metadata": {},
     "output_type": "display_data"
    },
    {
     "data": {
      "text/markdown": [
       "<span style=\"color:#33cc33\">Correct:</span> What?! You got it right without needing a hint or anything? Drats. Well hey, you should still continue to the next step to get some practice asking for a hint and checking solutions. (Even though you obviously don't need any help here.)"
      ],
      "text/plain": [
       "Correct: What?! You got it right without needing a hint or anything? Drats. Well hey, you should still continue to the next step to get some practice asking for a hint and checking solutions. (Even though you obviously don't need any help here.)"
      ]
     },
     "metadata": {},
     "output_type": "display_data"
    }
   ],
   "source": [
    "# create a variable called color with an appropriate value on the line below\n",
    "# (Remember, strings in Python must be enclosed in 'single' or \"double\" quotes)\n",
    "color = 'blue'\n",
    "\n",
    "# Check your answer\n",
    "q0.check()"
   ]
  },
  {
   "cell_type": "markdown",
   "id": "13bb369b",
   "metadata": {
    "papermill": {
     "duration": 0.009706,
     "end_time": "2024-04-25T07:03:18.557037",
     "exception": false,
     "start_time": "2024-04-25T07:03:18.547331",
     "status": "completed"
    },
    "tags": []
   },
   "source": [
    "Didn't get the right answer? How do you not even know your own favorite color?!\n",
    "\n",
    "Delete the `#` in the line below to make one of the lines run. You can choose between getting a hint or the full answer by choosing which line to remove the `#` from. \n",
    "\n",
    "Removing the `#` is called uncommenting, because it changes that line from a \"comment\" which Python doesn't run to code, which Python does run."
   ]
  },
  {
   "cell_type": "code",
   "execution_count": 4,
   "id": "23682247",
   "metadata": {
    "execution": {
     "iopub.execute_input": "2024-04-25T07:03:18.579633Z",
     "iopub.status.busy": "2024-04-25T07:03:18.579157Z",
     "iopub.status.idle": "2024-04-25T07:03:18.590444Z",
     "shell.execute_reply": "2024-04-25T07:03:18.588922Z"
    },
    "papermill": {
     "duration": 0.025495,
     "end_time": "2024-04-25T07:03:18.593123",
     "exception": false,
     "start_time": "2024-04-25T07:03:18.567628",
     "status": "completed"
    },
    "tags": []
   },
   "outputs": [
    {
     "data": {
      "application/javascript": [
       "parent.postMessage({\"jupyterEvent\": \"custom.exercise_interaction\", \"data\": {\"interactionType\": 2, \"questionType\": 2, \"questionId\": \"0_ExerciseFormatTutorial\", \"learnToolsVersion\": \"0.3.4\", \"valueTowardsCompletion\": 0.0, \"failureMessage\": \"\", \"exceptionClass\": \"\", \"trace\": \"\", \"outcomeType\": 4}}, \"*\")"
      ],
      "text/plain": [
       "<IPython.core.display.Javascript object>"
      ]
     },
     "metadata": {},
     "output_type": "display_data"
    },
    {
     "data": {
      "text/markdown": [
       "<span style=\"color:#3366cc\">Hint:</span> Your favorite color rhymes with *glue*."
      ],
      "text/plain": [
       "Hint: Your favorite color rhymes with *glue*."
      ]
     },
     "metadata": {},
     "output_type": "display_data"
    }
   ],
   "source": [
    "q0.hint()\n",
    "#q0.solution()"
   ]
  },
  {
   "cell_type": "markdown",
   "id": "d065a840",
   "metadata": {
    "papermill": {
     "duration": 0.010764,
     "end_time": "2024-04-25T07:03:18.615560",
     "exception": false,
     "start_time": "2024-04-25T07:03:18.604796",
     "status": "completed"
    },
    "tags": []
   },
   "source": [
    "The upcoming questions work the same way. The only thing that will change are the question numbers. For the next question, you'll call `q1.check()`, `q1.hint()`, `q1.solution()`, for question 2, you'll call `q2.check()`, and so on."
   ]
  },
  {
   "cell_type": "markdown",
   "id": "35ea98e9",
   "metadata": {
    "papermill": {
     "duration": 0.010449,
     "end_time": "2024-04-25T07:03:18.636932",
     "exception": false,
     "start_time": "2024-04-25T07:03:18.626483",
     "status": "completed"
    },
    "tags": []
   },
   "source": [
    "<hr/>\n",
    "\n",
    "# 1.\n",
    "\n",
    "Complete the code below. In case it's helpful, here is the table of available arithmetic operations:\n",
    "\n",
    "\n",
    "\n",
    "| Operator     | Name           | Description                                            |\n",
    "|--------------|----------------|--------------------------------------------------------|\n",
    "| ``a + b``    | Addition       | Sum of ``a`` and ``b``                                 |\n",
    "| ``a - b``    | Subtraction    | Difference of ``a`` and ``b``                          |\n",
    "| ``a * b``    | Multiplication | Product of ``a`` and ``b``                             |\n",
    "| ``a / b``    | True division  | Quotient of ``a`` and ``b``                            |\n",
    "| ``a // b``   | Floor division | Quotient of ``a`` and ``b``, removing fractional parts |\n",
    "| ``a % b``    | Modulus        | Integer remainder after division of ``a`` by ``b``     |\n",
    "| ``a ** b``   | Exponentiation | ``a`` raised to the power of ``b``                     |\n",
    "| ``-a``       | Negation       | The negative of ``a``                                  |\n",
    "\n",
    "<span style=\"display:none\"></span>\n"
   ]
  },
  {
   "cell_type": "code",
   "execution_count": 5,
   "id": "58411a86",
   "metadata": {
    "execution": {
     "iopub.execute_input": "2024-04-25T07:03:18.662557Z",
     "iopub.status.busy": "2024-04-25T07:03:18.662153Z",
     "iopub.status.idle": "2024-04-25T07:03:18.673517Z",
     "shell.execute_reply": "2024-04-25T07:03:18.672201Z"
    },
    "papermill": {
     "duration": 0.027205,
     "end_time": "2024-04-25T07:03:18.676285",
     "exception": false,
     "start_time": "2024-04-25T07:03:18.649080",
     "status": "completed"
    },
    "tags": []
   },
   "outputs": [
    {
     "data": {
      "application/javascript": [
       "parent.postMessage({\"jupyterEvent\": \"custom.exercise_interaction\", \"data\": {\"outcomeType\": 1, \"valueTowardsCompletion\": 0.25, \"interactionType\": 1, \"questionType\": 1, \"questionId\": \"1_CircleArea\", \"learnToolsVersion\": \"0.3.4\", \"failureMessage\": \"\", \"exceptionClass\": \"\", \"trace\": \"\"}}, \"*\")"
      ],
      "text/plain": [
       "<IPython.core.display.Javascript object>"
      ]
     },
     "metadata": {},
     "output_type": "display_data"
    },
    {
     "data": {
      "text/markdown": [
       "<span style=\"color:#33cc33\">Correct</span>"
      ],
      "text/plain": [
       "Correct"
      ]
     },
     "metadata": {},
     "output_type": "display_data"
    }
   ],
   "source": [
    "pi = 3.14159 # approximate\n",
    "diameter = 3\n",
    "\n",
    "# Create a variable called 'radius' equal to half the diameter\n",
    "radius = diameter / 2\n",
    "\n",
    "# Create a variable called 'area', using the formula for the area of a circle: \n",
    "# pi times the radius squared\n",
    "area = pi * radius * radius\n",
    "\n",
    "# Check your answer\n",
    "q1.check()"
   ]
  },
  {
   "cell_type": "code",
   "execution_count": 6,
   "id": "a7a34549",
   "metadata": {
    "execution": {
     "iopub.execute_input": "2024-04-25T07:03:18.704078Z",
     "iopub.status.busy": "2024-04-25T07:03:18.703654Z",
     "iopub.status.idle": "2024-04-25T07:03:18.708212Z",
     "shell.execute_reply": "2024-04-25T07:03:18.707063Z"
    },
    "papermill": {
     "duration": 0.022428,
     "end_time": "2024-04-25T07:03:18.711001",
     "exception": false,
     "start_time": "2024-04-25T07:03:18.688573",
     "status": "completed"
    },
    "tags": []
   },
   "outputs": [],
   "source": [
    "# Uncomment and run the lines below if you need help.\n",
    "#q1.hint()\n",
    "#q1.solution()"
   ]
  },
  {
   "cell_type": "markdown",
   "id": "bbcfb974",
   "metadata": {
    "papermill": {
     "duration": 0.011131,
     "end_time": "2024-04-25T07:03:18.734445",
     "exception": false,
     "start_time": "2024-04-25T07:03:18.723314",
     "status": "completed"
    },
    "tags": []
   },
   "source": [
    "<hr/>\n",
    "\n",
    "# 2.\n",
    "\n",
    "Add code to the following cell to swap variables `a` and `b` (so that `a` refers to the object previously referred to by `b` and vice versa)."
   ]
  },
  {
   "cell_type": "code",
   "execution_count": 7,
   "id": "4914cfc7",
   "metadata": {
    "execution": {
     "iopub.execute_input": "2024-04-25T07:03:18.759975Z",
     "iopub.status.busy": "2024-04-25T07:03:18.759057Z",
     "iopub.status.idle": "2024-04-25T07:03:18.769971Z",
     "shell.execute_reply": "2024-04-25T07:03:18.768876Z"
    },
    "papermill": {
     "duration": 0.027235,
     "end_time": "2024-04-25T07:03:18.773358",
     "exception": false,
     "start_time": "2024-04-25T07:03:18.746123",
     "status": "completed"
    },
    "tags": []
   },
   "outputs": [
    {
     "data": {
      "application/javascript": [
       "parent.postMessage({\"jupyterEvent\": \"custom.exercise_interaction\", \"data\": {\"outcomeType\": 1, \"valueTowardsCompletion\": 0.25, \"interactionType\": 1, \"questionType\": 2, \"questionId\": \"2_VariableSwap\", \"learnToolsVersion\": \"0.3.4\", \"failureMessage\": \"\", \"exceptionClass\": \"\", \"trace\": \"\"}}, \"*\")"
      ],
      "text/plain": [
       "<IPython.core.display.Javascript object>"
      ]
     },
     "metadata": {},
     "output_type": "display_data"
    },
    {
     "data": {
      "text/markdown": [
       "<span style=\"color:#33cc33\">Correct:</span> \n",
       "\n",
       "The most straightforward solution is to use a third variable to temporarily store one of the old values. e.g.:\n",
       "\n",
       "    tmp = a\n",
       "    a = b\n",
       "    b = tmp\n",
       "\n",
       "If you've read lots of Python code, you might have seen the following trick to swap two variables in one line:\n",
       "\n",
       "    a, b = b, a\n",
       "\n",
       "We'll demystify this bit of Python magic later when we talk about *tuples*."
      ],
      "text/plain": [
       "Correct: \n",
       "\n",
       "The most straightforward solution is to use a third variable to temporarily store one of the old values. e.g.:\n",
       "\n",
       "    tmp = a\n",
       "    a = b\n",
       "    b = tmp\n",
       "\n",
       "If you've read lots of Python code, you might have seen the following trick to swap two variables in one line:\n",
       "\n",
       "    a, b = b, a\n",
       "\n",
       "We'll demystify this bit of Python magic later when we talk about *tuples*."
      ]
     },
     "metadata": {},
     "output_type": "display_data"
    }
   ],
   "source": [
    "########### Setup code - don't touch this part ######################\n",
    "# If you're curious, these are examples of lists. We'll talk about \n",
    "# them in depth a few lessons from now. For now, just know that they're\n",
    "# yet another type of Python object, like int or float.\n",
    "a = [1, 2, 3]\n",
    "b = [3, 2, 1]\n",
    "q2.store_original_ids()\n",
    "######################################################################\n",
    "\n",
    "# Your code goes here. Swap the values to which a and b refer.\n",
    "# If you get stuck, you can always uncomment one or both of the lines in\n",
    "# the next cell for a hint, or to peek at the solution.\n",
    "tmp = a\n",
    "a = b\n",
    "b = tmp\n",
    "\n",
    "######################################################################\n",
    "\n",
    "# Check your answer\n",
    "q2.check()"
   ]
  },
  {
   "cell_type": "code",
   "execution_count": 8,
   "id": "64165f36",
   "metadata": {
    "execution": {
     "iopub.execute_input": "2024-04-25T07:03:18.800424Z",
     "iopub.status.busy": "2024-04-25T07:03:18.800045Z",
     "iopub.status.idle": "2024-04-25T07:03:18.805167Z",
     "shell.execute_reply": "2024-04-25T07:03:18.803480Z"
    },
    "papermill": {
     "duration": 0.021105,
     "end_time": "2024-04-25T07:03:18.808023",
     "exception": false,
     "start_time": "2024-04-25T07:03:18.786918",
     "status": "completed"
    },
    "tags": []
   },
   "outputs": [],
   "source": [
    "#q2.hint()"
   ]
  },
  {
   "cell_type": "code",
   "execution_count": 9,
   "id": "63e9f4a8",
   "metadata": {
    "execution": {
     "iopub.execute_input": "2024-04-25T07:03:18.832498Z",
     "iopub.status.busy": "2024-04-25T07:03:18.832007Z",
     "iopub.status.idle": "2024-04-25T07:03:18.838066Z",
     "shell.execute_reply": "2024-04-25T07:03:18.836613Z"
    },
    "papermill": {
     "duration": 0.021957,
     "end_time": "2024-04-25T07:03:18.841081",
     "exception": false,
     "start_time": "2024-04-25T07:03:18.819124",
     "status": "completed"
    },
    "tags": []
   },
   "outputs": [],
   "source": [
    "#q2.solution()"
   ]
  },
  {
   "cell_type": "markdown",
   "id": "5810b223",
   "metadata": {
    "papermill": {
     "duration": 0.011131,
     "end_time": "2024-04-25T07:03:18.863642",
     "exception": false,
     "start_time": "2024-04-25T07:03:18.852511",
     "status": "completed"
    },
    "tags": []
   },
   "source": [
    "<hr/>\n",
    "\n",
    "# 3a.\n",
    "\n",
    "Add parentheses to the following expression so that it evaluates to 1."
   ]
  },
  {
   "cell_type": "code",
   "execution_count": 10,
   "id": "8f6e07af",
   "metadata": {
    "execution": {
     "iopub.execute_input": "2024-04-25T07:03:18.888283Z",
     "iopub.status.busy": "2024-04-25T07:03:18.887820Z",
     "iopub.status.idle": "2024-04-25T07:03:18.896718Z",
     "shell.execute_reply": "2024-04-25T07:03:18.895291Z"
    },
    "papermill": {
     "duration": 0.0243,
     "end_time": "2024-04-25T07:03:18.899508",
     "exception": false,
     "start_time": "2024-04-25T07:03:18.875208",
     "status": "completed"
    },
    "tags": []
   },
   "outputs": [
    {
     "data": {
      "text/plain": [
       "1"
      ]
     },
     "execution_count": 10,
     "metadata": {},
     "output_type": "execute_result"
    }
   ],
   "source": [
    "(5 - 3) // 2"
   ]
  },
  {
   "cell_type": "code",
   "execution_count": 11,
   "id": "3929827f",
   "metadata": {
    "execution": {
     "iopub.execute_input": "2024-04-25T07:03:18.924538Z",
     "iopub.status.busy": "2024-04-25T07:03:18.924127Z",
     "iopub.status.idle": "2024-04-25T07:03:18.928401Z",
     "shell.execute_reply": "2024-04-25T07:03:18.927246Z"
    },
    "papermill": {
     "duration": 0.01979,
     "end_time": "2024-04-25T07:03:18.931045",
     "exception": false,
     "start_time": "2024-04-25T07:03:18.911255",
     "status": "completed"
    },
    "tags": []
   },
   "outputs": [],
   "source": [
    "#q3.a.hint()"
   ]
  },
  {
   "cell_type": "code",
   "execution_count": 12,
   "id": "fcca9e5d",
   "metadata": {
    "execution": {
     "iopub.execute_input": "2024-04-25T07:03:18.955762Z",
     "iopub.status.busy": "2024-04-25T07:03:18.955302Z",
     "iopub.status.idle": "2024-04-25T07:03:18.965328Z",
     "shell.execute_reply": "2024-04-25T07:03:18.964013Z"
    },
    "papermill": {
     "duration": 0.025791,
     "end_time": "2024-04-25T07:03:18.968104",
     "exception": false,
     "start_time": "2024-04-25T07:03:18.942313",
     "status": "completed"
    },
    "tags": []
   },
   "outputs": [
    {
     "data": {
      "application/javascript": [
       "parent.postMessage({\"jupyterEvent\": \"custom.exercise_interaction\", \"data\": {\"interactionType\": 3, \"questionType\": 4, \"questionId\": \"3.1_ArithmeticParensEasy\", \"learnToolsVersion\": \"0.3.4\", \"valueTowardsCompletion\": 0.0, \"failureMessage\": \"\", \"exceptionClass\": \"\", \"trace\": \"\", \"outcomeType\": 4}}, \"*\")"
      ],
      "text/plain": [
       "<IPython.core.display.Javascript object>"
      ]
     },
     "metadata": {},
     "output_type": "display_data"
    },
    {
     "data": {
      "text/markdown": [
       "<span style=\"color:#33cc99\">Solution:</span> \n",
       "```python\n",
       "(5 - 3) // 2\n",
       "```"
      ],
      "text/plain": [
       "Solution: \n",
       "```python\n",
       "(5 - 3) // 2\n",
       "```"
      ]
     },
     "metadata": {},
     "output_type": "display_data"
    }
   ],
   "source": [
    "# Check your answer (Run this code cell to receive credit!)\n",
    "q3.a.solution()"
   ]
  },
  {
   "cell_type": "markdown",
   "id": "2ba5a54e",
   "metadata": {
    "papermill": {
     "duration": 0.011521,
     "end_time": "2024-04-25T07:03:18.991406",
     "exception": false,
     "start_time": "2024-04-25T07:03:18.979885",
     "status": "completed"
    },
    "tags": []
   },
   "source": [
    "# 3b.  <span title=\"A bit spicy\" style=\"color: darkgreen \">🌶️</span>\n",
    "\n",
    "<small>Questions, like this one, marked a spicy pepper are a bit harder.</small>\n",
    "\n",
    "Add parentheses to the following expression so that it evaluates to 0."
   ]
  },
  {
   "cell_type": "code",
   "execution_count": 13,
   "id": "2198672b",
   "metadata": {
    "execution": {
     "iopub.execute_input": "2024-04-25T07:03:19.017173Z",
     "iopub.status.busy": "2024-04-25T07:03:19.016747Z",
     "iopub.status.idle": "2024-04-25T07:03:19.025506Z",
     "shell.execute_reply": "2024-04-25T07:03:19.023972Z"
    },
    "papermill": {
     "duration": 0.025086,
     "end_time": "2024-04-25T07:03:19.028494",
     "exception": false,
     "start_time": "2024-04-25T07:03:19.003408",
     "status": "completed"
    },
    "tags": []
   },
   "outputs": [
    {
     "data": {
      "text/plain": [
       "0"
      ]
     },
     "execution_count": 13,
     "metadata": {},
     "output_type": "execute_result"
    }
   ],
   "source": [
    "8 - 3 * 2 - (1 + 1)"
   ]
  },
  {
   "cell_type": "code",
   "execution_count": 14,
   "id": "f63891d1",
   "metadata": {
    "execution": {
     "iopub.execute_input": "2024-04-25T07:03:19.054375Z",
     "iopub.status.busy": "2024-04-25T07:03:19.053824Z",
     "iopub.status.idle": "2024-04-25T07:03:19.059123Z",
     "shell.execute_reply": "2024-04-25T07:03:19.058132Z"
    },
    "papermill": {
     "duration": 0.021009,
     "end_time": "2024-04-25T07:03:19.061627",
     "exception": false,
     "start_time": "2024-04-25T07:03:19.040618",
     "status": "completed"
    },
    "tags": []
   },
   "outputs": [],
   "source": [
    "#q3.b.hint()"
   ]
  },
  {
   "cell_type": "code",
   "execution_count": 15,
   "id": "c92540e1",
   "metadata": {
    "execution": {
     "iopub.execute_input": "2024-04-25T07:03:19.087150Z",
     "iopub.status.busy": "2024-04-25T07:03:19.086634Z",
     "iopub.status.idle": "2024-04-25T07:03:19.095973Z",
     "shell.execute_reply": "2024-04-25T07:03:19.094988Z"
    },
    "papermill": {
     "duration": 0.024682,
     "end_time": "2024-04-25T07:03:19.098185",
     "exception": false,
     "start_time": "2024-04-25T07:03:19.073503",
     "status": "completed"
    },
    "tags": []
   },
   "outputs": [
    {
     "data": {
      "application/javascript": [
       "parent.postMessage({\"jupyterEvent\": \"custom.exercise_interaction\", \"data\": {\"interactionType\": 3, \"questionType\": 4, \"questionId\": \"3.2_ArithmeticParensHard\", \"learnToolsVersion\": \"0.3.4\", \"valueTowardsCompletion\": 0.0, \"failureMessage\": \"\", \"exceptionClass\": \"\", \"trace\": \"\", \"outcomeType\": 4}}, \"*\")"
      ],
      "text/plain": [
       "<IPython.core.display.Javascript object>"
      ]
     },
     "metadata": {},
     "output_type": "display_data"
    },
    {
     "data": {
      "text/markdown": [
       "<span style=\"color:#33cc99\">Solution:</span> `(8 - 3) * (2 - (1 + 1))` is one solution. There may be others."
      ],
      "text/plain": [
       "Solution: `(8 - 3) * (2 - (1 + 1))` is one solution. There may be others."
      ]
     },
     "metadata": {},
     "output_type": "display_data"
    }
   ],
   "source": [
    "# Check your answer (Run this code cell to receive credit!)\n",
    "q3.b.solution()"
   ]
  },
  {
   "cell_type": "markdown",
   "id": "4daeb241",
   "metadata": {
    "papermill": {
     "duration": 0.01168,
     "end_time": "2024-04-25T07:03:19.121616",
     "exception": false,
     "start_time": "2024-04-25T07:03:19.109936",
     "status": "completed"
    },
    "tags": []
   },
   "source": [
    "<hr/>\n",
    "\n",
    "# 4. \n",
    "Alice, Bob and Carol have agreed to pool their Halloween candy and split it evenly among themselves.\n",
    "For the sake of their friendship, any candies left over will be smashed. For example, if they collectively\n",
    "bring home 91 candies, they'll take 30 each and smash 1.\n",
    "\n",
    "Write an arithmetic expression below to calculate how many candies they must smash for a given haul."
   ]
  },
  {
   "cell_type": "code",
   "execution_count": 16,
   "id": "1b1b9e0e",
   "metadata": {
    "execution": {
     "iopub.execute_input": "2024-04-25T07:03:19.150913Z",
     "iopub.status.busy": "2024-04-25T07:03:19.150427Z",
     "iopub.status.idle": "2024-04-25T07:03:19.161870Z",
     "shell.execute_reply": "2024-04-25T07:03:19.159811Z"
    },
    "papermill": {
     "duration": 0.029448,
     "end_time": "2024-04-25T07:03:19.164696",
     "exception": false,
     "start_time": "2024-04-25T07:03:19.135248",
     "status": "completed"
    },
    "tags": []
   },
   "outputs": [
    {
     "data": {
      "application/javascript": [
       "parent.postMessage({\"jupyterEvent\": \"custom.exercise_interaction\", \"data\": {\"outcomeType\": 1, \"valueTowardsCompletion\": 0.25, \"interactionType\": 1, \"questionType\": 1, \"questionId\": \"4_CandySplitting\", \"learnToolsVersion\": \"0.3.4\", \"failureMessage\": \"\", \"exceptionClass\": \"\", \"trace\": \"\"}}, \"*\")"
      ],
      "text/plain": [
       "<IPython.core.display.Javascript object>"
      ]
     },
     "metadata": {},
     "output_type": "display_data"
    },
    {
     "data": {
      "text/markdown": [
       "<span style=\"color:#33cc33\">Correct</span>"
      ],
      "text/plain": [
       "Correct"
      ]
     },
     "metadata": {},
     "output_type": "display_data"
    }
   ],
   "source": [
    "# Variables representing the number of candies collected by alice, bob, and\n",
    "# carol\n",
    "alice_candies = 121\n",
    "bob_candies = 77\n",
    "carol_candies = 109\n",
    "\n",
    "# Your code goes here! Replace the right-hand side of this assignment with an \n",
    "# expression involving alice_candies, bob_candies, and carol_candies\n",
    "to_smash = (alice_candies + bob_candies + carol_candies) % 3\n",
    "\n",
    "# Check your answer\n",
    "q4.check()"
   ]
  },
  {
   "cell_type": "code",
   "execution_count": 17,
   "id": "3b6c1dfa",
   "metadata": {
    "execution": {
     "iopub.execute_input": "2024-04-25T07:03:19.193159Z",
     "iopub.status.busy": "2024-04-25T07:03:19.191654Z",
     "iopub.status.idle": "2024-04-25T07:03:19.198004Z",
     "shell.execute_reply": "2024-04-25T07:03:19.197094Z"
    },
    "papermill": {
     "duration": 0.02315,
     "end_time": "2024-04-25T07:03:19.200609",
     "exception": false,
     "start_time": "2024-04-25T07:03:19.177459",
     "status": "completed"
    },
    "tags": []
   },
   "outputs": [],
   "source": [
    "#q4.hint()\n",
    "#q4.solution()"
   ]
  },
  {
   "cell_type": "markdown",
   "id": "721b642b",
   "metadata": {
    "papermill": {
     "duration": 0.012479,
     "end_time": "2024-04-25T07:03:19.225359",
     "exception": false,
     "start_time": "2024-04-25T07:03:19.212880",
     "status": "completed"
    },
    "tags": []
   },
   "source": [
    "# Keep Going\n",
    "\n",
    "Next up, you'll **[learn to write new functions and understand functions others write](https://www.kaggle.com/colinmorris/functions-and-getting-help)**. This will make you at least 10 times more productive as a Python programmer. "
   ]
  },
  {
   "cell_type": "markdown",
   "id": "d98ff3b8",
   "metadata": {
    "papermill": {
     "duration": 0.011912,
     "end_time": "2024-04-25T07:03:19.250140",
     "exception": false,
     "start_time": "2024-04-25T07:03:19.238228",
     "status": "completed"
    },
    "tags": []
   },
   "source": [
    "---\n",
    "\n",
    "\n",
    "\n",
    "\n",
    "*Have questions or comments? Visit the [course discussion forum](https://www.kaggle.com/learn/python/discussion) to chat with other learners.*"
   ]
  },
  {
   "cell_type": "code",
   "execution_count": null,
   "id": "a1c936c1",
   "metadata": {
    "papermill": {
     "duration": 0.011776,
     "end_time": "2024-04-25T07:03:19.274162",
     "exception": false,
     "start_time": "2024-04-25T07:03:19.262386",
     "status": "completed"
    },
    "tags": []
   },
   "outputs": [],
   "source": []
  }
 ],
 "metadata": {
  "kaggle": {
   "accelerator": "none",
   "dataSources": [],
   "isGpuEnabled": false,
   "isInternetEnabled": false,
   "language": "python",
   "sourceType": "notebook"
  },
  "kernelspec": {
   "display_name": "Python 3",
   "language": "python",
   "name": "python3"
  },
  "language_info": {
   "codemirror_mode": {
    "name": "ipython",
    "version": 3
   },
   "file_extension": ".py",
   "mimetype": "text/x-python",
   "name": "python",
   "nbconvert_exporter": "python",
   "pygments_lexer": "ipython3",
   "version": "3.10.13"
  },
  "learntools_metadata": {
   "lesson_index": 0,
   "type": "exercise"
  },
  "papermill": {
   "default_parameters": {},
   "duration": 5.899488,
   "end_time": "2024-04-25T07:03:19.808961",
   "environment_variables": {},
   "exception": null,
   "input_path": "__notebook__.ipynb",
   "output_path": "__notebook__.ipynb",
   "parameters": {},
   "start_time": "2024-04-25T07:03:13.909473",
   "version": "2.5.0"
  }
 },
 "nbformat": 4,
 "nbformat_minor": 5
}
