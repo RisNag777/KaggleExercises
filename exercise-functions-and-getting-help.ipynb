{
 "cells": [
  {
   "cell_type": "markdown",
   "id": "c9dfb54b",
   "metadata": {
    "papermill": {
     "duration": 0.006945,
     "end_time": "2024-04-25T07:14:44.802446",
     "exception": false,
     "start_time": "2024-04-25T07:14:44.795501",
     "status": "completed"
    },
    "tags": []
   },
   "source": [
    "**This notebook is an exercise in the [Python](https://www.kaggle.com/learn/python) course.  You can reference the tutorial at [this link](https://www.kaggle.com/colinmorris/functions-and-getting-help).**\n",
    "\n",
    "---\n"
   ]
  },
  {
   "cell_type": "markdown",
   "id": "64aa5923",
   "metadata": {
    "papermill": {
     "duration": 0.006102,
     "end_time": "2024-04-25T07:14:44.815394",
     "exception": false,
     "start_time": "2024-04-25T07:14:44.809292",
     "status": "completed"
    },
    "tags": []
   },
   "source": [
    "Functions are powerful. Try writing some yourself.\n",
    "\n",
    "As before, don't forget to run the setup code below before jumping into question 1."
   ]
  },
  {
   "cell_type": "code",
   "execution_count": 1,
   "id": "ab8307e9",
   "metadata": {
    "_kg_hide-input": true,
    "_kg_hide-output": true,
    "execution": {
     "iopub.execute_input": "2024-04-25T07:14:44.830784Z",
     "iopub.status.busy": "2024-04-25T07:14:44.829965Z",
     "iopub.status.idle": "2024-04-25T07:14:45.917011Z",
     "shell.execute_reply": "2024-04-25T07:14:45.915484Z"
    },
    "papermill": {
     "duration": 1.098297,
     "end_time": "2024-04-25T07:14:45.920131",
     "exception": false,
     "start_time": "2024-04-25T07:14:44.821834",
     "status": "completed"
    },
    "tags": []
   },
   "outputs": [
    {
     "name": "stdout",
     "output_type": "stream",
     "text": [
      "Setup complete.\n"
     ]
    }
   ],
   "source": [
    "# SETUP. You don't need to worry for now about what this code does or how it\n",
    "# works.\n",
    "from learntools.core import binder; binder.bind(globals())\n",
    "from learntools.python.ex2 import *\n",
    "print('Setup complete.')"
   ]
  },
  {
   "cell_type": "markdown",
   "id": "0f8e2995",
   "metadata": {
    "papermill": {
     "duration": 0.006284,
     "end_time": "2024-04-25T07:14:45.933145",
     "exception": false,
     "start_time": "2024-04-25T07:14:45.926861",
     "status": "completed"
    },
    "tags": []
   },
   "source": [
    "# 1.\n",
    "\n",
    "Complete the body of the following function according to its docstring.\n",
    "\n",
    "HINT: Python has a built-in function `round`."
   ]
  },
  {
   "cell_type": "code",
   "execution_count": 2,
   "id": "eb6d6a91",
   "metadata": {
    "execution": {
     "iopub.execute_input": "2024-04-25T07:14:45.948313Z",
     "iopub.status.busy": "2024-04-25T07:14:45.947771Z",
     "iopub.status.idle": "2024-04-25T07:14:45.959537Z",
     "shell.execute_reply": "2024-04-25T07:14:45.958447Z"
    },
    "papermill": {
     "duration": 0.02225,
     "end_time": "2024-04-25T07:14:45.962019",
     "exception": false,
     "start_time": "2024-04-25T07:14:45.939769",
     "status": "completed"
    },
    "tags": []
   },
   "outputs": [
    {
     "data": {
      "application/javascript": [
       "parent.postMessage({\"jupyterEvent\": \"custom.exercise_interaction\", \"data\": {\"outcomeType\": 1, \"valueTowardsCompletion\": 0.16666666666666666, \"interactionType\": 1, \"questionType\": 2, \"questionId\": \"1_RoundFunctionProblem\", \"learnToolsVersion\": \"0.3.4\", \"failureMessage\": \"\", \"exceptionClass\": \"\", \"trace\": \"\"}}, \"*\")"
      ],
      "text/plain": [
       "<IPython.core.display.Javascript object>"
      ]
     },
     "metadata": {},
     "output_type": "display_data"
    },
    {
     "data": {
      "text/markdown": [
       "<span style=\"color:#33cc33\">Correct</span>"
      ],
      "text/plain": [
       "Correct"
      ]
     },
     "metadata": {},
     "output_type": "display_data"
    }
   ],
   "source": [
    "def round_to_two_places(num):\n",
    "    \"\"\"Return the given number rounded to two decimal places. \n",
    "    \n",
    "    >>> round_to_two_places(3.14159)\n",
    "    3.14\n",
    "    \"\"\"\n",
    "    # Replace this body with your own code.\n",
    "    # (\"pass\" is a keyword that does literally nothing. We used it as a\n",
    "    # placeholder because after we begin a code block, Python requires at\n",
    "    # least one line of code)\n",
    "    return round(num, 2)\n",
    "\n",
    "# Check your answer\n",
    "q1.check()"
   ]
  },
  {
   "cell_type": "code",
   "execution_count": 3,
   "id": "e8e0e4e0",
   "metadata": {
    "execution": {
     "iopub.execute_input": "2024-04-25T07:14:45.977813Z",
     "iopub.status.busy": "2024-04-25T07:14:45.977405Z",
     "iopub.status.idle": "2024-04-25T07:14:45.982355Z",
     "shell.execute_reply": "2024-04-25T07:14:45.981031Z"
    },
    "papermill": {
     "duration": 0.015805,
     "end_time": "2024-04-25T07:14:45.984940",
     "exception": false,
     "start_time": "2024-04-25T07:14:45.969135",
     "status": "completed"
    },
    "tags": []
   },
   "outputs": [],
   "source": [
    "# Uncomment the following for a hint\n",
    "#q1.hint()\n",
    "# Or uncomment the following to peek at the solution\n",
    "#q1.solution()"
   ]
  },
  {
   "cell_type": "markdown",
   "id": "238a00ee",
   "metadata": {
    "papermill": {
     "duration": 0.007044,
     "end_time": "2024-04-25T07:14:45.999059",
     "exception": false,
     "start_time": "2024-04-25T07:14:45.992015",
     "status": "completed"
    },
    "tags": []
   },
   "source": [
    "# 2.\n",
    "The help for `round` says that `ndigits` (the second argument) may be negative.\n",
    "What do you think will happen when it is? Try some examples in the following cell."
   ]
  },
  {
   "cell_type": "code",
   "execution_count": 4,
   "id": "28942910",
   "metadata": {
    "execution": {
     "iopub.execute_input": "2024-04-25T07:14:46.015697Z",
     "iopub.status.busy": "2024-04-25T07:14:46.014493Z",
     "iopub.status.idle": "2024-04-25T07:14:46.021610Z",
     "shell.execute_reply": "2024-04-25T07:14:46.020500Z"
    },
    "papermill": {
     "duration": 0.017743,
     "end_time": "2024-04-25T07:14:46.023930",
     "exception": false,
     "start_time": "2024-04-25T07:14:46.006187",
     "status": "completed"
    },
    "tags": []
   },
   "outputs": [
    {
     "data": {
      "text/plain": [
       "10.0"
      ]
     },
     "execution_count": 4,
     "metadata": {},
     "output_type": "execute_result"
    }
   ],
   "source": [
    "# Put your test code here\n",
    "round(10.822, -1)"
   ]
  },
  {
   "cell_type": "markdown",
   "id": "81d38061",
   "metadata": {
    "papermill": {
     "duration": 0.007822,
     "end_time": "2024-04-25T07:14:46.039432",
     "exception": false,
     "start_time": "2024-04-25T07:14:46.031610",
     "status": "completed"
    },
    "tags": []
   },
   "source": [
    "Can you think of a case where this would be useful?  Once you're ready, run the code cell below to see the answer and to receive credit for completing the problem."
   ]
  },
  {
   "cell_type": "code",
   "execution_count": 5,
   "id": "2178ce81",
   "metadata": {
    "execution": {
     "iopub.execute_input": "2024-04-25T07:14:46.056323Z",
     "iopub.status.busy": "2024-04-25T07:14:46.055957Z",
     "iopub.status.idle": "2024-04-25T07:14:46.065088Z",
     "shell.execute_reply": "2024-04-25T07:14:46.063786Z"
    },
    "papermill": {
     "duration": 0.020708,
     "end_time": "2024-04-25T07:14:46.067619",
     "exception": false,
     "start_time": "2024-04-25T07:14:46.046911",
     "status": "completed"
    },
    "tags": []
   },
   "outputs": [
    {
     "data": {
      "application/javascript": [
       "parent.postMessage({\"jupyterEvent\": \"custom.exercise_interaction\", \"data\": {\"interactionType\": 3, \"questionType\": 4, \"questionId\": \"2_RoundNdigitsProblem\", \"learnToolsVersion\": \"0.3.4\", \"valueTowardsCompletion\": 0.0, \"failureMessage\": \"\", \"exceptionClass\": \"\", \"trace\": \"\", \"outcomeType\": 4}}, \"*\")"
      ],
      "text/plain": [
       "<IPython.core.display.Javascript object>"
      ]
     },
     "metadata": {},
     "output_type": "display_data"
    },
    {
     "data": {
      "text/markdown": [
       "<span style=\"color:#33cc99\">Solution:</span> As you've seen, `ndigits=-1` rounds to the nearest 10, `ndigits=-2` rounds to the nearest 100 and so on. Where might this be useful? Suppose we're dealing with large numbers:\n",
       "\n",
       "> The area of Finland is 338,424 km²  \n",
       "> The area of Greenland is 2,166,086 km²\n",
       "\n",
       "We probably don't care whether it's really 338,424, or 338,425, or 338,177. All those digits of accuracy are just distracting. We can chop them off by calling `round()` with `ndigits=-3`:\n",
       "\n",
       "> The area of Finland is 338,000 km²  \n",
       "> The area of Greenland is 2,166,000 km²\n",
       "\n",
       "(We'll talk about how we would get the commas later when we talk about string formatting :))\n"
      ],
      "text/plain": [
       "Solution: As you've seen, `ndigits=-1` rounds to the nearest 10, `ndigits=-2` rounds to the nearest 100 and so on. Where might this be useful? Suppose we're dealing with large numbers:\n",
       "\n",
       "> The area of Finland is 338,424 km²  \n",
       "> The area of Greenland is 2,166,086 km²\n",
       "\n",
       "We probably don't care whether it's really 338,424, or 338,425, or 338,177. All those digits of accuracy are just distracting. We can chop them off by calling `round()` with `ndigits=-3`:\n",
       "\n",
       "> The area of Finland is 338,000 km²  \n",
       "> The area of Greenland is 2,166,000 km²\n",
       "\n",
       "(We'll talk about how we would get the commas later when we talk about string formatting :))"
      ]
     },
     "metadata": {},
     "output_type": "display_data"
    }
   ],
   "source": [
    "# Check your answer (Run this code cell to receive credit!)\n",
    "q2.solution()"
   ]
  },
  {
   "cell_type": "markdown",
   "id": "d926e5ea",
   "metadata": {
    "papermill": {
     "duration": 0.007105,
     "end_time": "2024-04-25T07:14:46.082349",
     "exception": false,
     "start_time": "2024-04-25T07:14:46.075244",
     "status": "completed"
    },
    "tags": []
   },
   "source": [
    "# 3.\n",
    "\n",
    "In the previous exercise, the candy-sharing friends Alice, Bob and Carol tried to split candies evenly. For the sake of their friendship, any candies left over would be smashed. For example, if they collectively bring home 91 candies, they'll take 30 each and smash 1.\n",
    "\n",
    "Below is a simple function that will calculate the number of candies to smash for *any* number of total candies.\n",
    "\n",
    "Modify it so that it optionally takes a second argument representing the number of friends the candies are being split between. If no second argument is provided, it should assume 3 friends, as before.\n",
    "\n",
    "Update the docstring to reflect this new behaviour."
   ]
  },
  {
   "cell_type": "code",
   "execution_count": 6,
   "id": "74f5ced5",
   "metadata": {
    "execution": {
     "iopub.execute_input": "2024-04-25T07:14:46.101095Z",
     "iopub.status.busy": "2024-04-25T07:14:46.100710Z",
     "iopub.status.idle": "2024-04-25T07:14:46.110661Z",
     "shell.execute_reply": "2024-04-25T07:14:46.109441Z"
    },
    "papermill": {
     "duration": 0.023254,
     "end_time": "2024-04-25T07:14:46.113148",
     "exception": false,
     "start_time": "2024-04-25T07:14:46.089894",
     "status": "completed"
    },
    "tags": []
   },
   "outputs": [
    {
     "data": {
      "application/javascript": [
       "parent.postMessage({\"jupyterEvent\": \"custom.exercise_interaction\", \"data\": {\"outcomeType\": 1, \"valueTowardsCompletion\": 0.16666666666666666, \"interactionType\": 1, \"questionType\": 2, \"questionId\": \"3_CandySmashingFunctionProblem\", \"learnToolsVersion\": \"0.3.4\", \"failureMessage\": \"\", \"exceptionClass\": \"\", \"trace\": \"\"}}, \"*\")"
      ],
      "text/plain": [
       "<IPython.core.display.Javascript object>"
      ]
     },
     "metadata": {},
     "output_type": "display_data"
    },
    {
     "data": {
      "text/markdown": [
       "<span style=\"color:#33cc33\">Correct</span>"
      ],
      "text/plain": [
       "Correct"
      ]
     },
     "metadata": {},
     "output_type": "display_data"
    }
   ],
   "source": [
    "def to_smash(total_candies, num_friends=3):\n",
    "    \"\"\"Return the number of leftover candies that must be smashed after \n",
    "    distributing the given number of candies evenly between any number of\n",
    "    friends.\n",
    "    \n",
    "    >>> to_smash(91, 3)\n",
    "    1\n",
    "    \"\"\"\n",
    "    return total_candies % num_friends\n",
    "\n",
    "# Check your answer\n",
    "q3.check()"
   ]
  },
  {
   "cell_type": "code",
   "execution_count": 7,
   "id": "c44c8356",
   "metadata": {
    "execution": {
     "iopub.execute_input": "2024-04-25T07:14:46.130601Z",
     "iopub.status.busy": "2024-04-25T07:14:46.130163Z",
     "iopub.status.idle": "2024-04-25T07:14:46.135299Z",
     "shell.execute_reply": "2024-04-25T07:14:46.134167Z"
    },
    "papermill": {
     "duration": 0.016852,
     "end_time": "2024-04-25T07:14:46.137817",
     "exception": false,
     "start_time": "2024-04-25T07:14:46.120965",
     "status": "completed"
    },
    "tags": []
   },
   "outputs": [],
   "source": [
    "#q3.hint()"
   ]
  },
  {
   "cell_type": "code",
   "execution_count": 8,
   "id": "d4f98ee4",
   "metadata": {
    "execution": {
     "iopub.execute_input": "2024-04-25T07:14:46.155539Z",
     "iopub.status.busy": "2024-04-25T07:14:46.155156Z",
     "iopub.status.idle": "2024-04-25T07:14:46.160029Z",
     "shell.execute_reply": "2024-04-25T07:14:46.158823Z"
    },
    "papermill": {
     "duration": 0.016773,
     "end_time": "2024-04-25T07:14:46.162409",
     "exception": false,
     "start_time": "2024-04-25T07:14:46.145636",
     "status": "completed"
    },
    "tags": []
   },
   "outputs": [],
   "source": [
    "#q3.solution()"
   ]
  },
  {
   "cell_type": "markdown",
   "id": "4d8de1d6",
   "metadata": {
    "papermill": {
     "duration": 0.007479,
     "end_time": "2024-04-25T07:14:46.178004",
     "exception": false,
     "start_time": "2024-04-25T07:14:46.170525",
     "status": "completed"
    },
    "tags": []
   },
   "source": [
    "# 4. (Optional)\n",
    "\n",
    "It may not be fun, but reading and understanding error messages will be an important part of your Python career.\n",
    "\n",
    "Each code cell below contains some commented buggy code. For each cell...\n",
    "\n",
    "1. Read the code and predict what you think will happen when it's run.\n",
    "2. Then uncomment the code and run it to see what happens. (**Tip**: In the kernel editor, you can highlight several lines and press `ctrl`+`/` to toggle commenting.)\n",
    "3. Fix the code (so that it accomplishes its intended purpose without throwing an exception)\n",
    "\n",
    "<!-- TODO: should this be autochecked? Delta is probably pretty small. -->"
   ]
  },
  {
   "cell_type": "code",
   "execution_count": 9,
   "id": "540b97ad",
   "metadata": {
    "execution": {
     "iopub.execute_input": "2024-04-25T07:14:46.195323Z",
     "iopub.status.busy": "2024-04-25T07:14:46.194908Z",
     "iopub.status.idle": "2024-04-25T07:14:46.202603Z",
     "shell.execute_reply": "2024-04-25T07:14:46.201380Z"
    },
    "papermill": {
     "duration": 0.019354,
     "end_time": "2024-04-25T07:14:46.205089",
     "exception": false,
     "start_time": "2024-04-25T07:14:46.185735",
     "status": "completed"
    },
    "tags": []
   },
   "outputs": [
    {
     "data": {
      "text/plain": [
       "10.0"
      ]
     },
     "execution_count": 9,
     "metadata": {},
     "output_type": "execute_result"
    }
   ],
   "source": [
    "round_to_two_places(9.9999)"
   ]
  },
  {
   "cell_type": "code",
   "execution_count": 10,
   "id": "98efc778",
   "metadata": {
    "execution": {
     "iopub.execute_input": "2024-04-25T07:14:46.223138Z",
     "iopub.status.busy": "2024-04-25T07:14:46.222758Z",
     "iopub.status.idle": "2024-04-25T07:14:46.227759Z",
     "shell.execute_reply": "2024-04-25T07:14:46.226663Z"
    },
    "papermill": {
     "duration": 0.016893,
     "end_time": "2024-04-25T07:14:46.230128",
     "exception": false,
     "start_time": "2024-04-25T07:14:46.213235",
     "status": "completed"
    },
    "tags": []
   },
   "outputs": [],
   "source": [
    "x = -10\n",
    "y = 5\n",
    "# Which of the two variables above has the smallest absolute value?\n",
    "smallest_abs = min(abs(x), abs(y))"
   ]
  },
  {
   "cell_type": "code",
   "execution_count": 11,
   "id": "b05ff593",
   "metadata": {
    "execution": {
     "iopub.execute_input": "2024-04-25T07:14:46.248069Z",
     "iopub.status.busy": "2024-04-25T07:14:46.247608Z",
     "iopub.status.idle": "2024-04-25T07:14:46.253607Z",
     "shell.execute_reply": "2024-04-25T07:14:46.252413Z"
    },
    "papermill": {
     "duration": 0.018014,
     "end_time": "2024-04-25T07:14:46.256119",
     "exception": false,
     "start_time": "2024-04-25T07:14:46.238105",
     "status": "completed"
    },
    "tags": []
   },
   "outputs": [
    {
     "name": "stdout",
     "output_type": "stream",
     "text": [
      "5\n"
     ]
    }
   ],
   "source": [
    "def f(x):\n",
    "    y = abs(x)\n",
    "    return y\n",
    "\n",
    "print(f(5))"
   ]
  },
  {
   "cell_type": "markdown",
   "id": "5872e334",
   "metadata": {
    "papermill": {
     "duration": 0.007645,
     "end_time": "2024-04-25T07:14:46.271774",
     "exception": false,
     "start_time": "2024-04-25T07:14:46.264129",
     "status": "completed"
    },
    "tags": []
   },
   "source": [
    "# Keep Going\n",
    "\n",
    "Nice job with the code. Next up, you'll learn about *conditionals*, which you'll need to **[write interesting programs](https://www.kaggle.com/colinmorris/booleans-and-conditionals)**. "
   ]
  },
  {
   "cell_type": "markdown",
   "id": "5df20cef",
   "metadata": {
    "papermill": {
     "duration": 0.007547,
     "end_time": "2024-04-25T07:14:46.287385",
     "exception": false,
     "start_time": "2024-04-25T07:14:46.279838",
     "status": "completed"
    },
    "tags": []
   },
   "source": [
    "---\n",
    "\n",
    "\n",
    "\n",
    "\n",
    "*Have questions or comments? Visit the [course discussion forum](https://www.kaggle.com/learn/python/discussion) to chat with other learners.*"
   ]
  }
 ],
 "metadata": {
  "kaggle": {
   "accelerator": "none",
   "dataSources": [],
   "isGpuEnabled": false,
   "isInternetEnabled": false,
   "language": "python",
   "sourceType": "notebook"
  },
  "kernelspec": {
   "display_name": "Python 3",
   "language": "python",
   "name": "python3"
  },
  "language_info": {
   "codemirror_mode": {
    "name": "ipython",
    "version": 3
   },
   "file_extension": ".py",
   "mimetype": "text/x-python",
   "name": "python",
   "nbconvert_exporter": "python",
   "pygments_lexer": "ipython3",
   "version": "3.10.13"
  },
  "learntools_metadata": {
   "lesson_index": 1,
   "type": "exercise"
  },
  "papermill": {
   "default_parameters": {},
   "duration": 5.235643,
   "end_time": "2024-04-25T07:14:46.816260",
   "environment_variables": {},
   "exception": null,
   "input_path": "__notebook__.ipynb",
   "output_path": "__notebook__.ipynb",
   "parameters": {},
   "start_time": "2024-04-25T07:14:41.580617",
   "version": "2.5.0"
  }
 },
 "nbformat": 4,
 "nbformat_minor": 5
}
