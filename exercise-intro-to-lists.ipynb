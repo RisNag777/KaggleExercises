{
 "cells": [
  {
   "cell_type": "markdown",
   "id": "cf104e8d",
   "metadata": {
    "papermill": {
     "duration": 0.006939,
     "end_time": "2024-04-25T06:48:21.160671",
     "exception": false,
     "start_time": "2024-04-25T06:48:21.153732",
     "status": "completed"
    },
    "tags": []
   },
   "source": [
    "**This notebook is an exercise in the [Intro to Programming](https://www.kaggle.com/learn/intro-to-programming) course.  You can reference the tutorial at [this link](https://www.kaggle.com/alexisbcook/intro-to-lists).**\n",
    "\n",
    "---\n"
   ]
  },
  {
   "cell_type": "markdown",
   "id": "02d6b601",
   "metadata": {
    "papermill": {
     "duration": 0.005893,
     "end_time": "2024-04-25T06:48:21.173327",
     "exception": false,
     "start_time": "2024-04-25T06:48:21.167434",
     "status": "completed"
    },
    "tags": []
   },
   "source": [
    "In the tutorial, you learned how to define and modify Python lists.  In this exercise, you will use your new knowledge to solve several problems.\n",
    "\n",
    "# Set up the notebook\n",
    "\n",
    "Run the next code cell without changes to set up the notebook."
   ]
  },
  {
   "cell_type": "code",
   "execution_count": 1,
   "id": "28d8dd5a",
   "metadata": {
    "execution": {
     "iopub.execute_input": "2024-04-25T06:48:21.187423Z",
     "iopub.status.busy": "2024-04-25T06:48:21.187028Z",
     "iopub.status.idle": "2024-04-25T06:48:22.043596Z",
     "shell.execute_reply": "2024-04-25T06:48:22.042413Z"
    },
    "papermill": {
     "duration": 0.866687,
     "end_time": "2024-04-25T06:48:22.046083",
     "exception": false,
     "start_time": "2024-04-25T06:48:21.179396",
     "status": "completed"
    },
    "tags": []
   },
   "outputs": [
    {
     "name": "stdout",
     "output_type": "stream",
     "text": [
      "Setup complete.\n"
     ]
    }
   ],
   "source": [
    "from learntools.core import binder\n",
    "binder.bind(globals())\n",
    "from learntools.intro_to_programming.ex5 import *\n",
    "print('Setup complete.')"
   ]
  },
  {
   "cell_type": "markdown",
   "id": "9f330d5e",
   "metadata": {
    "papermill": {
     "duration": 0.005883,
     "end_time": "2024-04-25T06:48:22.058256",
     "exception": false,
     "start_time": "2024-04-25T06:48:22.052373",
     "status": "completed"
    },
    "tags": []
   },
   "source": [
    "# Question 1\n",
    "\n",
    "You own a restaurant with five food dishes, organized in the Python list `menu` below.  One day, you decide to:\n",
    "- remove bean soup (`'bean soup'`) from the menu, and\n",
    "- add roasted beet salad (`'roasted beet salad'`) to the menu.\n",
    "\n",
    "Implement this change to the list below.  While completing this task, \n",
    "- do not change the line that creates the `menu` list.  \n",
    "- your answer should use `.remove()` and `.append()`.  "
   ]
  },
  {
   "cell_type": "code",
   "execution_count": 2,
   "id": "17274cd4",
   "metadata": {
    "execution": {
     "iopub.execute_input": "2024-04-25T06:48:22.072872Z",
     "iopub.status.busy": "2024-04-25T06:48:22.071712Z",
     "iopub.status.idle": "2024-04-25T06:48:22.082529Z",
     "shell.execute_reply": "2024-04-25T06:48:22.081189Z"
    },
    "papermill": {
     "duration": 0.020341,
     "end_time": "2024-04-25T06:48:22.084730",
     "exception": false,
     "start_time": "2024-04-25T06:48:22.064389",
     "status": "completed"
    },
    "tags": []
   },
   "outputs": [
    {
     "data": {
      "application/javascript": [
       "parent.postMessage({\"jupyterEvent\": \"custom.exercise_interaction\", \"data\": {\"outcomeType\": 1, \"valueTowardsCompletion\": 0.2, \"interactionType\": 1, \"questionType\": 2, \"questionId\": \"1_FoodMenu\", \"learnToolsVersion\": \"0.3.4\", \"failureMessage\": \"\", \"exceptionClass\": \"\", \"trace\": \"\"}}, \"*\")"
      ],
      "text/plain": [
       "<IPython.core.display.Javascript object>"
      ]
     },
     "metadata": {},
     "output_type": "display_data"
    },
    {
     "data": {
      "text/markdown": [
       "<span style=\"color:#33cc33\">Correct</span>"
      ],
      "text/plain": [
       "Correct"
      ]
     },
     "metadata": {},
     "output_type": "display_data"
    }
   ],
   "source": [
    "# Do not change: Initial menu for your restaurant\n",
    "menu = ['stewed meat with onions', 'bean soup', 'risotto with trout and shrimp',\n",
    "       'fish soup with cream and onion', 'gyro']\n",
    "\n",
    "# TODO: remove 'bean soup', and add 'roasted beet salad' to the end of the menu\n",
    "menu.remove('bean soup')\n",
    "menu.append('roasted beet salad')\n",
    "\n",
    "# Do not change: Check your answer\n",
    "q1.check()"
   ]
  },
  {
   "cell_type": "code",
   "execution_count": 3,
   "id": "b4680d74",
   "metadata": {
    "execution": {
     "iopub.execute_input": "2024-04-25T06:48:22.099492Z",
     "iopub.status.busy": "2024-04-25T06:48:22.098658Z",
     "iopub.status.idle": "2024-04-25T06:48:22.103302Z",
     "shell.execute_reply": "2024-04-25T06:48:22.102228Z"
    },
    "papermill": {
     "duration": 0.014305,
     "end_time": "2024-04-25T06:48:22.105453",
     "exception": false,
     "start_time": "2024-04-25T06:48:22.091148",
     "status": "completed"
    },
    "tags": []
   },
   "outputs": [],
   "source": [
    "# Uncomment to see a hint\n",
    "#q1.hint()\n",
    "\n",
    "# Uncomment to see the solution\n",
    "#q1.solution()"
   ]
  },
  {
   "cell_type": "markdown",
   "id": "78bfe81d",
   "metadata": {
    "papermill": {
     "duration": 0.006216,
     "end_time": "2024-04-25T06:48:22.118258",
     "exception": false,
     "start_time": "2024-04-25T06:48:22.112042",
     "status": "completed"
    },
    "tags": []
   },
   "source": [
    "# Question 2\n",
    "\n",
    "The list `num_customers` contains the number of customers who came into your restaurant every day over the last month (which lasted thirty days).  Fill in values for each of the following:\n",
    "- `avg_first_seven` - average number of customers who visited in the first seven days\n",
    "- `avg_last_seven` - average number of customers who visited in the last seven days\n",
    "- `max_month` - number of customers on the day that got the most customers in the last month\n",
    "- `min_month` - number of customers on the day that got the least customers in the last month\n",
    "\n",
    "Answer this question by writing code.  For instance, if you have to find the minimum value in a list, use `min()` instead of scanning for the smallest value and directly filling in a number."
   ]
  },
  {
   "cell_type": "code",
   "execution_count": 4,
   "id": "f8b96901",
   "metadata": {
    "execution": {
     "iopub.execute_input": "2024-04-25T06:48:22.133184Z",
     "iopub.status.busy": "2024-04-25T06:48:22.132315Z",
     "iopub.status.idle": "2024-04-25T06:48:22.142371Z",
     "shell.execute_reply": "2024-04-25T06:48:22.141223Z"
    },
    "papermill": {
     "duration": 0.019958,
     "end_time": "2024-04-25T06:48:22.144652",
     "exception": false,
     "start_time": "2024-04-25T06:48:22.124694",
     "status": "completed"
    },
    "tags": []
   },
   "outputs": [
    {
     "data": {
      "application/javascript": [
       "parent.postMessage({\"jupyterEvent\": \"custom.exercise_interaction\", \"data\": {\"outcomeType\": 1, \"valueTowardsCompletion\": 0.2, \"interactionType\": 1, \"questionType\": 1, \"questionId\": \"2_NumCustomers\", \"learnToolsVersion\": \"0.3.4\", \"failureMessage\": \"\", \"exceptionClass\": \"\", \"trace\": \"\"}}, \"*\")"
      ],
      "text/plain": [
       "<IPython.core.display.Javascript object>"
      ]
     },
     "metadata": {},
     "output_type": "display_data"
    },
    {
     "data": {
      "text/markdown": [
       "<span style=\"color:#33cc33\">Correct</span>"
      ],
      "text/plain": [
       "Correct"
      ]
     },
     "metadata": {},
     "output_type": "display_data"
    }
   ],
   "source": [
    "# Do not change: Number of customers each day for the last month\n",
    "num_customers = [137, 147, 135, 128, 170, 174, 165, 146, 126, 159,\n",
    "                 141, 148, 132, 147, 168, 153, 170, 161, 148, 152,\n",
    "                 141, 151, 131, 149, 164, 163, 143, 143, 166, 171]\n",
    "\n",
    "# TODO: Fill in values for the variables below\n",
    "avg_first_seven = sum(num_customers[:7])/7\n",
    "avg_last_seven = sum(num_customers[-7:])/7\n",
    "max_month = max(num_customers)\n",
    "min_month = min(num_customers)\n",
    "\n",
    "# Do not change: Check your answer\n",
    "q2.check()"
   ]
  },
  {
   "cell_type": "code",
   "execution_count": 5,
   "id": "b71a9d50",
   "metadata": {
    "execution": {
     "iopub.execute_input": "2024-04-25T06:48:22.161182Z",
     "iopub.status.busy": "2024-04-25T06:48:22.160450Z",
     "iopub.status.idle": "2024-04-25T06:48:22.165095Z",
     "shell.execute_reply": "2024-04-25T06:48:22.163927Z"
    },
    "papermill": {
     "duration": 0.015983,
     "end_time": "2024-04-25T06:48:22.167390",
     "exception": false,
     "start_time": "2024-04-25T06:48:22.151407",
     "status": "completed"
    },
    "tags": []
   },
   "outputs": [],
   "source": [
    "# Uncomment to see a hint\n",
    "#q2.hint()\n",
    "\n",
    "# Uncomment to see the solution\n",
    "#q2.solution()"
   ]
  },
  {
   "cell_type": "markdown",
   "id": "c7b91829",
   "metadata": {
    "papermill": {
     "duration": 0.00645,
     "end_time": "2024-04-25T06:48:22.180595",
     "exception": false,
     "start_time": "2024-04-25T06:48:22.174145",
     "status": "completed"
    },
    "tags": []
   },
   "source": [
    "# Question 3\n",
    "\n",
    "In the tutorial, we gave an example of a Python string with information that was better as a list."
   ]
  },
  {
   "cell_type": "code",
   "execution_count": 6,
   "id": "6adc63cd",
   "metadata": {
    "execution": {
     "iopub.execute_input": "2024-04-25T06:48:22.195766Z",
     "iopub.status.busy": "2024-04-25T06:48:22.195391Z",
     "iopub.status.idle": "2024-04-25T06:48:22.200176Z",
     "shell.execute_reply": "2024-04-25T06:48:22.199096Z"
    },
    "papermill": {
     "duration": 0.015265,
     "end_time": "2024-04-25T06:48:22.202561",
     "exception": false,
     "start_time": "2024-04-25T06:48:22.187296",
     "status": "completed"
    },
    "tags": []
   },
   "outputs": [],
   "source": [
    "flowers = \"pink primrose,hard-leaved pocket orchid,canterbury bells,sweet pea,english marigold,tiger lily,moon orchid,bird of paradise,monkshood,globe thistle\""
   ]
  },
  {
   "cell_type": "markdown",
   "id": "072b892e",
   "metadata": {
    "papermill": {
     "duration": 0.007775,
     "end_time": "2024-04-25T06:48:22.217003",
     "exception": false,
     "start_time": "2024-04-25T06:48:22.209228",
     "status": "completed"
    },
    "tags": []
   },
   "source": [
    "You can actually use Python to quickly turn this string into a list with `.split()`.  In the parentheses, we need to provide the character should be used to mark the end of one list item and the beginning of another, and enclose it in quotation marks.  In this case, that character is a comma."
   ]
  },
  {
   "cell_type": "code",
   "execution_count": 7,
   "id": "374dfa14",
   "metadata": {
    "execution": {
     "iopub.execute_input": "2024-04-25T06:48:22.232255Z",
     "iopub.status.busy": "2024-04-25T06:48:22.231827Z",
     "iopub.status.idle": "2024-04-25T06:48:22.237154Z",
     "shell.execute_reply": "2024-04-25T06:48:22.236193Z"
    },
    "papermill": {
     "duration": 0.015308,
     "end_time": "2024-04-25T06:48:22.239136",
     "exception": false,
     "start_time": "2024-04-25T06:48:22.223828",
     "status": "completed"
    },
    "tags": []
   },
   "outputs": [
    {
     "name": "stdout",
     "output_type": "stream",
     "text": [
      "['pink primrose', 'hard-leaved pocket orchid', 'canterbury bells', 'sweet pea', 'english marigold', 'tiger lily', 'moon orchid', 'bird of paradise', 'monkshood', 'globe thistle']\n"
     ]
    }
   ],
   "source": [
    " print(flowers.split(\",\"))"
   ]
  },
  {
   "cell_type": "markdown",
   "id": "3934d730",
   "metadata": {
    "papermill": {
     "duration": 0.006487,
     "end_time": "2024-04-25T06:48:22.252508",
     "exception": false,
     "start_time": "2024-04-25T06:48:22.246021",
     "status": "completed"
    },
    "tags": []
   },
   "source": [
    "Now it is your turn to try this out!  Create two Python lists:\n",
    "- `letters` should be a Python list where each entry is an uppercase letter of the English alphabet.  For instance, the first two entries should be `\"A\"` and `\"B\"`, and the final two entries should be `\"Y\"` and `\"Z\"`.  Use the string `alphabet` to create this list.\n",
    "- `address` should be a Python list where each row in `address` is a different item in the list.  Currently, each row in `address` is separated by a comma. "
   ]
  },
  {
   "cell_type": "code",
   "execution_count": 8,
   "id": "cc932399",
   "metadata": {
    "execution": {
     "iopub.execute_input": "2024-04-25T06:48:22.268339Z",
     "iopub.status.busy": "2024-04-25T06:48:22.267370Z",
     "iopub.status.idle": "2024-04-25T06:48:22.276563Z",
     "shell.execute_reply": "2024-04-25T06:48:22.275406Z"
    },
    "papermill": {
     "duration": 0.019519,
     "end_time": "2024-04-25T06:48:22.278776",
     "exception": false,
     "start_time": "2024-04-25T06:48:22.259257",
     "status": "completed"
    },
    "tags": []
   },
   "outputs": [
    {
     "data": {
      "application/javascript": [
       "parent.postMessage({\"jupyterEvent\": \"custom.exercise_interaction\", \"data\": {\"outcomeType\": 1, \"valueTowardsCompletion\": 0.2, \"interactionType\": 1, \"questionType\": 1, \"questionId\": \"3_SplitString\", \"learnToolsVersion\": \"0.3.4\", \"failureMessage\": \"\", \"exceptionClass\": \"\", \"trace\": \"\"}}, \"*\")"
      ],
      "text/plain": [
       "<IPython.core.display.Javascript object>"
      ]
     },
     "metadata": {},
     "output_type": "display_data"
    },
    {
     "data": {
      "text/markdown": [
       "<span style=\"color:#33cc33\">Correct</span>"
      ],
      "text/plain": [
       "Correct"
      ]
     },
     "metadata": {},
     "output_type": "display_data"
    }
   ],
   "source": [
    "# DO not change: Define two Python strings\n",
    "alphabet = \"A.B.C.D.E.F.G.H.I.J.K.L.M.N.O.P.Q.R.S.T.U.V.W.X.Y.Z\"\n",
    "address = \"Mr. H. Potter,The cupboard under the Stairs,4 Privet Drive,Little Whinging,Surrey\"\n",
    "\n",
    "# TODO: Convert strings into Python lists\n",
    "letters = alphabet.split('.')\n",
    "formatted_address = address.split(',')\n",
    "\n",
    "# Do not change: Check your answer\n",
    "q3.check()"
   ]
  },
  {
   "cell_type": "code",
   "execution_count": 9,
   "id": "1f77cc7b",
   "metadata": {
    "execution": {
     "iopub.execute_input": "2024-04-25T06:48:22.294593Z",
     "iopub.status.busy": "2024-04-25T06:48:22.294180Z",
     "iopub.status.idle": "2024-04-25T06:48:22.299596Z",
     "shell.execute_reply": "2024-04-25T06:48:22.298670Z"
    },
    "papermill": {
     "duration": 0.015905,
     "end_time": "2024-04-25T06:48:22.301913",
     "exception": false,
     "start_time": "2024-04-25T06:48:22.286008",
     "status": "completed"
    },
    "tags": []
   },
   "outputs": [],
   "source": [
    "# Uncomment to see a hint\n",
    "#q3.hint()\n",
    "\n",
    "# Uncomment to see the solution\n",
    "#q3.solution()"
   ]
  },
  {
   "cell_type": "markdown",
   "id": "645b16b7",
   "metadata": {
    "papermill": {
     "duration": 0.00679,
     "end_time": "2024-04-25T06:48:22.315840",
     "exception": false,
     "start_time": "2024-04-25T06:48:22.309050",
     "status": "completed"
    },
    "tags": []
   },
   "source": [
    "# Question 4\n",
    "\n",
    "In the Python course, you'll learn all about **list comprehensions**, which allow you to create a list based on the values in another list.  In this question, you'll get a brief preview of how they work.\n",
    "\n",
    "Say we're working with the list below."
   ]
  },
  {
   "cell_type": "code",
   "execution_count": 10,
   "id": "5b9f2459",
   "metadata": {
    "execution": {
     "iopub.execute_input": "2024-04-25T06:48:22.332764Z",
     "iopub.status.busy": "2024-04-25T06:48:22.332317Z",
     "iopub.status.idle": "2024-04-25T06:48:22.337512Z",
     "shell.execute_reply": "2024-04-25T06:48:22.336362Z"
    },
    "papermill": {
     "duration": 0.016457,
     "end_time": "2024-04-25T06:48:22.339803",
     "exception": false,
     "start_time": "2024-04-25T06:48:22.323346",
     "status": "completed"
    },
    "tags": []
   },
   "outputs": [],
   "source": [
    "test_ratings = [1, 2, 3, 4, 5]"
   ]
  },
  {
   "cell_type": "markdown",
   "id": "ea998414",
   "metadata": {
    "papermill": {
     "duration": 0.006849,
     "end_time": "2024-04-25T06:48:22.353805",
     "exception": false,
     "start_time": "2024-04-25T06:48:22.346956",
     "status": "completed"
    },
    "tags": []
   },
   "source": [
    "Then we can use this list (`test_ratings`) to create a new list (`test_liked`) where each item has been turned into a boolean, depending on whether or not the item is greater than or equal to four."
   ]
  },
  {
   "cell_type": "code",
   "execution_count": 11,
   "id": "d3c9bbdc",
   "metadata": {
    "execution": {
     "iopub.execute_input": "2024-04-25T06:48:22.370072Z",
     "iopub.status.busy": "2024-04-25T06:48:22.369495Z",
     "iopub.status.idle": "2024-04-25T06:48:22.375788Z",
     "shell.execute_reply": "2024-04-25T06:48:22.374640Z"
    },
    "papermill": {
     "duration": 0.017077,
     "end_time": "2024-04-25T06:48:22.378030",
     "exception": false,
     "start_time": "2024-04-25T06:48:22.360953",
     "status": "completed"
    },
    "tags": []
   },
   "outputs": [
    {
     "name": "stdout",
     "output_type": "stream",
     "text": [
      "[False, False, False, True, True]\n"
     ]
    }
   ],
   "source": [
    "test_liked = [i>=4 for i in test_ratings]\n",
    "print(test_liked)"
   ]
  },
  {
   "cell_type": "markdown",
   "id": "a7590f3a",
   "metadata": {
    "papermill": {
     "duration": 0.006844,
     "end_time": "2024-04-25T06:48:22.391999",
     "exception": false,
     "start_time": "2024-04-25T06:48:22.385155",
     "status": "completed"
    },
    "tags": []
   },
   "source": [
    "In this question, you'll use this list comprehension to define a function `percentage_liked()` that takes one argument as input:\n",
    "- `ratings`: list of ratings that people gave to a movie, where each rating is a number between 1-5, inclusive\n",
    "\n",
    "We say someone liked the movie, if they gave a rating of either 4 or 5.  Your function should return the percentage of people who liked the movie.\n",
    "\n",
    "For instance, if we supply a value of `[1, 2, 3, 4, 5, 4, 5, 1]`, then 50% (4/8) of the people liked the movie, and the function should return `0.5`.\n",
    "\n",
    "Part of the function has already been completed for you.  You need only use `list_liked` to calculate `percentage_liked`."
   ]
  },
  {
   "cell_type": "code",
   "execution_count": 12,
   "id": "7a76a516",
   "metadata": {
    "execution": {
     "iopub.execute_input": "2024-04-25T06:48:22.408951Z",
     "iopub.status.busy": "2024-04-25T06:48:22.407717Z",
     "iopub.status.idle": "2024-04-25T06:48:22.418519Z",
     "shell.execute_reply": "2024-04-25T06:48:22.417305Z"
    },
    "papermill": {
     "duration": 0.021732,
     "end_time": "2024-04-25T06:48:22.420900",
     "exception": false,
     "start_time": "2024-04-25T06:48:22.399168",
     "status": "completed"
    },
    "tags": []
   },
   "outputs": [
    {
     "data": {
      "application/javascript": [
       "parent.postMessage({\"jupyterEvent\": \"custom.exercise_interaction\", \"data\": {\"outcomeType\": 1, \"valueTowardsCompletion\": 0.2, \"interactionType\": 1, \"questionType\": 2, \"questionId\": \"4_PercentageLiked\", \"learnToolsVersion\": \"0.3.4\", \"failureMessage\": \"\", \"exceptionClass\": \"\", \"trace\": \"\"}}, \"*\")"
      ],
      "text/plain": [
       "<IPython.core.display.Javascript object>"
      ]
     },
     "metadata": {},
     "output_type": "display_data"
    },
    {
     "data": {
      "text/markdown": [
       "<span style=\"color:#33cc33\">Correct</span>"
      ],
      "text/plain": [
       "Correct"
      ]
     },
     "metadata": {},
     "output_type": "display_data"
    }
   ],
   "source": [
    "\n",
    "def percentage_liked(ratings):\n",
    "    list_liked = [i>=4 for i in ratings]\n",
    "    # TODO: Complete the function\n",
    "    percentage_liked = sum(list_liked)/len(list_liked)\n",
    "    return percentage_liked\n",
    "\n",
    "# Do not change: should return 0.5\n",
    "percentage_liked([1, 2, 3, 4, 5, 4, 5, 1])\n",
    "\n",
    "# Do not change: Check your answer\n",
    "q4.check()"
   ]
  },
  {
   "cell_type": "code",
   "execution_count": 13,
   "id": "bf015911",
   "metadata": {
    "execution": {
     "iopub.execute_input": "2024-04-25T06:48:22.437684Z",
     "iopub.status.busy": "2024-04-25T06:48:22.437272Z",
     "iopub.status.idle": "2024-04-25T06:48:22.442177Z",
     "shell.execute_reply": "2024-04-25T06:48:22.441038Z"
    },
    "papermill": {
     "duration": 0.016206,
     "end_time": "2024-04-25T06:48:22.444598",
     "exception": false,
     "start_time": "2024-04-25T06:48:22.428392",
     "status": "completed"
    },
    "tags": []
   },
   "outputs": [],
   "source": [
    "# Uncomment to see a hint\n",
    "#q4.hint()\n",
    "\n",
    "# Uncomment to see the solution\n",
    "#q4.solution()"
   ]
  },
  {
   "cell_type": "markdown",
   "id": "5e9a2f43",
   "metadata": {
    "papermill": {
     "duration": 0.007176,
     "end_time": "2024-04-25T06:48:22.459177",
     "exception": false,
     "start_time": "2024-04-25T06:48:22.452001",
     "status": "completed"
    },
    "tags": []
   },
   "source": [
    "# 🌶️ Question 5\n",
    " \n",
    "Say you're doing analytics for a website.  You need to write a function that returns the percentage growth in the total number of users relative to a specified number of years ago.\n",
    "\n",
    "Your function `percentage_growth()` should take two arguments as input:\n",
    "- `num_users` = Python list with the total number of users each year.  So `num_users[0]` is the total number of users in the first year, `num_users[1]` is the total number of users in the second year, and so on.  The final entry in the list gives the total number of users in the most recently completed year.\n",
    "- `yrs_ago` = number of years to go back in time when calculating the growth percentage\n",
    "\n",
    "For instance, say `num_users = [920344, 1043553, 1204334, 1458996, 1503323, 1593432, 1623463, 1843064, 1930992, 2001078]`.\n",
    "- if `yrs_ago = 1`, we want the function to return a value of about `0.036`. This corresponds to a percentage growth of approximately 3.6%, calculated as (2001078 - 1930992)/1930992.\n",
    "- if `years_ago = 7`, we would want to return approximately `0.66`.  This corresponds to a percentage growth of approximately 66%, calculated as (2001078 - 1204334)/1204334.\n",
    "\n",
    "Your coworker sent you a draft of a function, but it doesn't seem to be doing the correct calculation.  Can you figure out what has gone wrong and make the needed changes?"
   ]
  },
  {
   "cell_type": "code",
   "execution_count": 14,
   "id": "a20f92ef",
   "metadata": {
    "execution": {
     "iopub.execute_input": "2024-04-25T06:48:22.477809Z",
     "iopub.status.busy": "2024-04-25T06:48:22.476973Z",
     "iopub.status.idle": "2024-04-25T06:48:22.488670Z",
     "shell.execute_reply": "2024-04-25T06:48:22.487555Z"
    },
    "papermill": {
     "duration": 0.023096,
     "end_time": "2024-04-25T06:48:22.491119",
     "exception": false,
     "start_time": "2024-04-25T06:48:22.468023",
     "status": "completed"
    },
    "tags": []
   },
   "outputs": [
    {
     "name": "stdout",
     "output_type": "stream",
     "text": [
      "0.03629533421163837\n",
      "0.6615639847417742\n"
     ]
    },
    {
     "data": {
      "application/javascript": [
       "parent.postMessage({\"jupyterEvent\": \"custom.exercise_interaction\", \"data\": {\"outcomeType\": 1, \"valueTowardsCompletion\": 0.2, \"interactionType\": 1, \"questionType\": 2, \"questionId\": \"5_WebsiteAnalytics\", \"learnToolsVersion\": \"0.3.4\", \"failureMessage\": \"\", \"exceptionClass\": \"\", \"trace\": \"\"}}, \"*\")"
      ],
      "text/plain": [
       "<IPython.core.display.Javascript object>"
      ]
     },
     "metadata": {},
     "output_type": "display_data"
    },
    {
     "data": {
      "text/markdown": [
       "<span style=\"color:#33cc33\">Correct</span>"
      ],
      "text/plain": [
       "Correct"
      ]
     },
     "metadata": {},
     "output_type": "display_data"
    }
   ],
   "source": [
    "# TODO: Edit the function\n",
    "def percentage_growth(num_users, yrs_ago):\n",
    "    growth = (num_users[len(num_users)-1] - num_users[len(\n",
    "        num_users)-1-yrs_ago])/num_users[len(num_users)-1-yrs_ago]\n",
    "    return growth\n",
    "\n",
    "# Do not change: Variable for calculating some test examples\n",
    "num_users_test = [920344, 1043553, 1204334, 1458996, 1503323, 1593432, 1623463,\n",
    "                  1843064, 1930992, 2001078]\n",
    "\n",
    "# Do not change: Should return .036\n",
    "print(percentage_growth(num_users_test, 1))\n",
    "\n",
    "# Do not change: Should return 0.66\n",
    "print(percentage_growth(num_users_test, 7))\n",
    "\n",
    "# Do not change: Check your answer\n",
    "q5.check()"
   ]
  },
  {
   "cell_type": "code",
   "execution_count": 15,
   "id": "d642c9a1",
   "metadata": {
    "execution": {
     "iopub.execute_input": "2024-04-25T06:48:22.508326Z",
     "iopub.status.busy": "2024-04-25T06:48:22.507945Z",
     "iopub.status.idle": "2024-04-25T06:48:22.512673Z",
     "shell.execute_reply": "2024-04-25T06:48:22.511506Z"
    },
    "papermill": {
     "duration": 0.016085,
     "end_time": "2024-04-25T06:48:22.515043",
     "exception": false,
     "start_time": "2024-04-25T06:48:22.498958",
     "status": "completed"
    },
    "tags": []
   },
   "outputs": [],
   "source": [
    "# Uncomment to see a hint\n",
    "#q5.hint()\n",
    "\n",
    "# Uncomment to see the solution\n",
    "#q5.solution()"
   ]
  },
  {
   "cell_type": "markdown",
   "id": "984ae0f6",
   "metadata": {
    "papermill": {
     "duration": 0.007278,
     "end_time": "2024-04-25T06:48:22.530079",
     "exception": false,
     "start_time": "2024-04-25T06:48:22.522801",
     "status": "completed"
    },
    "tags": []
   },
   "source": [
    "# Congratulations!\n",
    "\n",
    "Congratulations for finishing the Intro to Programming course!  You should be proud of your very first steps with learning programming.  As next steps, we recommend taking:\n",
    "- the **[Python course](http://www.kaggle.com/learn/python)**, and \n",
    "- the **[Intro to Machine Learning course](https://www.kaggle.com/learn/intro-to-machine-learning)**."
   ]
  },
  {
   "cell_type": "markdown",
   "id": "7025a367",
   "metadata": {
    "papermill": {
     "duration": 0.007516,
     "end_time": "2024-04-25T06:48:22.545793",
     "exception": false,
     "start_time": "2024-04-25T06:48:22.538277",
     "status": "completed"
    },
    "tags": []
   },
   "source": [
    "---\n",
    "\n",
    "\n",
    "\n",
    "\n",
    "*Have questions or comments? Visit the [course discussion forum](https://www.kaggle.com/learn/intro-to-programming/discussion) to chat with other learners.*"
   ]
  }
 ],
 "metadata": {
  "kaggle": {
   "accelerator": "none",
   "dataSources": [],
   "isGpuEnabled": false,
   "isInternetEnabled": false,
   "language": "python",
   "sourceType": "notebook"
  },
  "kernelspec": {
   "display_name": "Python 3",
   "language": "python",
   "name": "python3"
  },
  "language_info": {
   "codemirror_mode": {
    "name": "ipython",
    "version": 3
   },
   "file_extension": ".py",
   "mimetype": "text/x-python",
   "name": "python",
   "nbconvert_exporter": "python",
   "pygments_lexer": "ipython3",
   "version": "3.10.13"
  },
  "papermill": {
   "default_parameters": {},
   "duration": 4.572059,
   "end_time": "2024-04-25T06:48:22.973574",
   "environment_variables": {},
   "exception": null,
   "input_path": "__notebook__.ipynb",
   "output_path": "__notebook__.ipynb",
   "parameters": {},
   "start_time": "2024-04-25T06:48:18.401515",
   "version": "2.5.0"
  }
 },
 "nbformat": 4,
 "nbformat_minor": 5
}
